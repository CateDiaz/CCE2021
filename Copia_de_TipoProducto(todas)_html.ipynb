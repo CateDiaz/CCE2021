{
  "nbformat": 4,
  "nbformat_minor": 0,
  "metadata": {
    "colab": {
      "name": "Copia de TipoProducto(todas).html",
      "provenance": [],
      "collapsed_sections": [
        "fIGE1LIjj9E6"
      ],
      "include_colab_link": true
    },
    "kernelspec": {
      "display_name": "Python 3",
      "language": "python",
      "name": "python3"
    },
    "language_info": {
      "codemirror_mode": {
        "name": "ipython",
        "version": 3
      },
      "file_extension": ".py",
      "mimetype": "text/x-python",
      "name": "python",
      "nbconvert_exporter": "python",
      "pygments_lexer": "ipython3",
      "version": "3.8.5"
    }
  },
  "cells": [
    {
      "cell_type": "markdown",
      "metadata": {
        "id": "view-in-github",
        "colab_type": "text"
      },
      "source": [
        "<a href=\"https://colab.research.google.com/github/CateDiaz/CCE2021/blob/main/Copia_de_TipoProducto(todas)_html.ipynb\" target=\"_parent\"><img src=\"https://colab.research.google.com/assets/colab-badge.svg\" alt=\"Open In Colab\"/></a>"
      ]
    },
    {
      "cell_type": "markdown",
      "metadata": {
        "id": "NViO-_uLIrmp"
      },
      "source": [
        "# ANALISIS DE BASE DE DATOS VENTAS EL TIEMPO"
      ]
    },
    {
      "cell_type": "markdown",
      "metadata": {
        "id": "xMW2j8CYIrmw"
      },
      "source": [
        "* cargar librerias"
      ]
    },
    {
      "cell_type": "code",
      "metadata": {
        "id": "Y3SUQXfW58eF"
      },
      "source": [
        "import pandas as pd\n",
        "import numpy as np\n",
        "from scipy import stats\n",
        "import matplotlib.pyplot as plt\n",
        "import seaborn as sns\n",
        "%matplotlib inline"
      ],
      "execution_count": null,
      "outputs": []
    },
    {
      "cell_type": "code",
      "metadata": {
        "colab": {
          "base_uri": "https://localhost:8080/",
          "height": 522
        },
        "id": "fycQRvh3HaGB",
        "outputId": "fc0b44cf-4c1e-4868-95d8-d47acf5a2a1d"
      },
      "source": [
        "from google.colab import drive\n",
        "drive.mount('content\\drive')"
      ],
      "execution_count": null,
      "outputs": [
        {
          "output_type": "error",
          "ename": "KeyboardInterrupt",
          "evalue": "ignored",
          "traceback": [
            "\u001b[0;31m---------------------------------------------------------------------------\u001b[0m",
            "\u001b[0;31mKeyboardInterrupt\u001b[0m                         Traceback (most recent call last)",
            "\u001b[0;32m/usr/local/lib/python3.7/dist-packages/ipykernel/kernelbase.py\u001b[0m in \u001b[0;36m_input_request\u001b[0;34m(self, prompt, ident, parent, password)\u001b[0m\n\u001b[1;32m    728\u001b[0m             \u001b[0;32mtry\u001b[0m\u001b[0;34m:\u001b[0m\u001b[0;34m\u001b[0m\u001b[0;34m\u001b[0m\u001b[0m\n\u001b[0;32m--> 729\u001b[0;31m                 \u001b[0mident\u001b[0m\u001b[0;34m,\u001b[0m \u001b[0mreply\u001b[0m \u001b[0;34m=\u001b[0m \u001b[0mself\u001b[0m\u001b[0;34m.\u001b[0m\u001b[0msession\u001b[0m\u001b[0;34m.\u001b[0m\u001b[0mrecv\u001b[0m\u001b[0;34m(\u001b[0m\u001b[0mself\u001b[0m\u001b[0;34m.\u001b[0m\u001b[0mstdin_socket\u001b[0m\u001b[0;34m,\u001b[0m \u001b[0;36m0\u001b[0m\u001b[0;34m)\u001b[0m\u001b[0;34m\u001b[0m\u001b[0;34m\u001b[0m\u001b[0m\n\u001b[0m\u001b[1;32m    730\u001b[0m             \u001b[0;32mexcept\u001b[0m \u001b[0mException\u001b[0m\u001b[0;34m:\u001b[0m\u001b[0;34m\u001b[0m\u001b[0;34m\u001b[0m\u001b[0m\n",
            "\u001b[0;32m/usr/local/lib/python3.7/dist-packages/jupyter_client/session.py\u001b[0m in \u001b[0;36mrecv\u001b[0;34m(self, socket, mode, content, copy)\u001b[0m\n\u001b[1;32m    802\u001b[0m         \u001b[0;32mtry\u001b[0m\u001b[0;34m:\u001b[0m\u001b[0;34m\u001b[0m\u001b[0;34m\u001b[0m\u001b[0m\n\u001b[0;32m--> 803\u001b[0;31m             \u001b[0mmsg_list\u001b[0m \u001b[0;34m=\u001b[0m \u001b[0msocket\u001b[0m\u001b[0;34m.\u001b[0m\u001b[0mrecv_multipart\u001b[0m\u001b[0;34m(\u001b[0m\u001b[0mmode\u001b[0m\u001b[0;34m,\u001b[0m \u001b[0mcopy\u001b[0m\u001b[0;34m=\u001b[0m\u001b[0mcopy\u001b[0m\u001b[0;34m)\u001b[0m\u001b[0;34m\u001b[0m\u001b[0;34m\u001b[0m\u001b[0m\n\u001b[0m\u001b[1;32m    804\u001b[0m         \u001b[0;32mexcept\u001b[0m \u001b[0mzmq\u001b[0m\u001b[0;34m.\u001b[0m\u001b[0mZMQError\u001b[0m \u001b[0;32mas\u001b[0m \u001b[0me\u001b[0m\u001b[0;34m:\u001b[0m\u001b[0;34m\u001b[0m\u001b[0;34m\u001b[0m\u001b[0m\n",
            "\u001b[0;32m/usr/local/lib/python3.7/dist-packages/zmq/sugar/socket.py\u001b[0m in \u001b[0;36mrecv_multipart\u001b[0;34m(self, flags, copy, track)\u001b[0m\n\u001b[1;32m    624\u001b[0m         \"\"\"\n\u001b[0;32m--> 625\u001b[0;31m         \u001b[0mparts\u001b[0m \u001b[0;34m=\u001b[0m \u001b[0;34m[\u001b[0m\u001b[0mself\u001b[0m\u001b[0;34m.\u001b[0m\u001b[0mrecv\u001b[0m\u001b[0;34m(\u001b[0m\u001b[0mflags\u001b[0m\u001b[0;34m,\u001b[0m \u001b[0mcopy\u001b[0m\u001b[0;34m=\u001b[0m\u001b[0mcopy\u001b[0m\u001b[0;34m,\u001b[0m \u001b[0mtrack\u001b[0m\u001b[0;34m=\u001b[0m\u001b[0mtrack\u001b[0m\u001b[0;34m)\u001b[0m\u001b[0;34m]\u001b[0m\u001b[0;34m\u001b[0m\u001b[0;34m\u001b[0m\u001b[0m\n\u001b[0m\u001b[1;32m    626\u001b[0m         \u001b[0;31m# have first part already, only loop while more to receive\u001b[0m\u001b[0;34m\u001b[0m\u001b[0;34m\u001b[0m\u001b[0;34m\u001b[0m\u001b[0m\n",
            "\u001b[0;32mzmq/backend/cython/socket.pyx\u001b[0m in \u001b[0;36mzmq.backend.cython.socket.Socket.recv\u001b[0;34m()\u001b[0m\n",
            "\u001b[0;32mzmq/backend/cython/socket.pyx\u001b[0m in \u001b[0;36mzmq.backend.cython.socket.Socket.recv\u001b[0;34m()\u001b[0m\n",
            "\u001b[0;32mzmq/backend/cython/socket.pyx\u001b[0m in \u001b[0;36mzmq.backend.cython.socket._recv_copy\u001b[0;34m()\u001b[0m\n",
            "\u001b[0;32m/usr/local/lib/python3.7/dist-packages/zmq/backend/cython/checkrc.pxd\u001b[0m in \u001b[0;36mzmq.backend.cython.checkrc._check_rc\u001b[0;34m()\u001b[0m\n",
            "\u001b[0;31mKeyboardInterrupt\u001b[0m: ",
            "\nDuring handling of the above exception, another exception occurred:\n",
            "\u001b[0;31mKeyboardInterrupt\u001b[0m                         Traceback (most recent call last)",
            "\u001b[0;32m<ipython-input-2-c385e22b1138>\u001b[0m in \u001b[0;36m<module>\u001b[0;34m()\u001b[0m\n\u001b[1;32m      1\u001b[0m \u001b[0;32mfrom\u001b[0m \u001b[0mgoogle\u001b[0m\u001b[0;34m.\u001b[0m\u001b[0mcolab\u001b[0m \u001b[0;32mimport\u001b[0m \u001b[0mdrive\u001b[0m\u001b[0;34m\u001b[0m\u001b[0;34m\u001b[0m\u001b[0m\n\u001b[0;32m----> 2\u001b[0;31m \u001b[0mdrive\u001b[0m\u001b[0;34m.\u001b[0m\u001b[0mmount\u001b[0m\u001b[0;34m(\u001b[0m\u001b[0;34m'content\\drive'\u001b[0m\u001b[0;34m)\u001b[0m\u001b[0;34m\u001b[0m\u001b[0;34m\u001b[0m\u001b[0m\n\u001b[0m",
            "\u001b[0;32m/usr/local/lib/python3.7/dist-packages/google/colab/drive.py\u001b[0m in \u001b[0;36mmount\u001b[0;34m(mountpoint, force_remount, timeout_ms, use_metadata_server)\u001b[0m\n\u001b[1;32m    111\u001b[0m       \u001b[0mtimeout_ms\u001b[0m\u001b[0;34m=\u001b[0m\u001b[0mtimeout_ms\u001b[0m\u001b[0;34m,\u001b[0m\u001b[0;34m\u001b[0m\u001b[0;34m\u001b[0m\u001b[0m\n\u001b[1;32m    112\u001b[0m       \u001b[0muse_metadata_server\u001b[0m\u001b[0;34m=\u001b[0m\u001b[0muse_metadata_server\u001b[0m\u001b[0;34m,\u001b[0m\u001b[0;34m\u001b[0m\u001b[0;34m\u001b[0m\u001b[0m\n\u001b[0;32m--> 113\u001b[0;31m       ephemeral=ephemeral)\n\u001b[0m\u001b[1;32m    114\u001b[0m \u001b[0;34m\u001b[0m\u001b[0m\n\u001b[1;32m    115\u001b[0m \u001b[0;34m\u001b[0m\u001b[0m\n",
            "\u001b[0;32m/usr/local/lib/python3.7/dist-packages/google/colab/drive.py\u001b[0m in \u001b[0;36m_mount\u001b[0;34m(mountpoint, force_remount, timeout_ms, use_metadata_server, ephemeral)\u001b[0m\n\u001b[1;32m    290\u001b[0m       \u001b[0;32mwith\u001b[0m \u001b[0m_output\u001b[0m\u001b[0;34m.\u001b[0m\u001b[0muse_tags\u001b[0m\u001b[0;34m(\u001b[0m\u001b[0;34m'dfs-auth-dance'\u001b[0m\u001b[0;34m)\u001b[0m\u001b[0;34m:\u001b[0m\u001b[0;34m\u001b[0m\u001b[0;34m\u001b[0m\u001b[0m\n\u001b[1;32m    291\u001b[0m         \u001b[0;32mwith\u001b[0m \u001b[0mopen\u001b[0m\u001b[0;34m(\u001b[0m\u001b[0mfifo\u001b[0m\u001b[0;34m,\u001b[0m \u001b[0;34m'w'\u001b[0m\u001b[0;34m)\u001b[0m \u001b[0;32mas\u001b[0m \u001b[0mfifo_file\u001b[0m\u001b[0;34m:\u001b[0m\u001b[0;34m\u001b[0m\u001b[0;34m\u001b[0m\u001b[0m\n\u001b[0;32m--> 292\u001b[0;31m           \u001b[0mfifo_file\u001b[0m\u001b[0;34m.\u001b[0m\u001b[0mwrite\u001b[0m\u001b[0;34m(\u001b[0m\u001b[0mget_code\u001b[0m\u001b[0;34m(\u001b[0m\u001b[0mauth_prompt\u001b[0m\u001b[0;34m)\u001b[0m \u001b[0;34m+\u001b[0m \u001b[0;34m'\\n'\u001b[0m\u001b[0;34m)\u001b[0m\u001b[0;34m\u001b[0m\u001b[0;34m\u001b[0m\u001b[0m\n\u001b[0m\u001b[1;32m    293\u001b[0m       \u001b[0mwrote_to_fifo\u001b[0m \u001b[0;34m=\u001b[0m \u001b[0;32mTrue\u001b[0m\u001b[0;34m\u001b[0m\u001b[0;34m\u001b[0m\u001b[0m\n\u001b[1;32m    294\u001b[0m     \u001b[0;32melif\u001b[0m \u001b[0mcase\u001b[0m \u001b[0;34m==\u001b[0m \u001b[0;36m5\u001b[0m\u001b[0;34m:\u001b[0m\u001b[0;34m\u001b[0m\u001b[0;34m\u001b[0m\u001b[0m\n",
            "\u001b[0;32m/usr/local/lib/python3.7/dist-packages/ipykernel/kernelbase.py\u001b[0m in \u001b[0;36mraw_input\u001b[0;34m(self, prompt)\u001b[0m\n\u001b[1;32m    702\u001b[0m             \u001b[0mself\u001b[0m\u001b[0;34m.\u001b[0m\u001b[0m_parent_ident\u001b[0m\u001b[0;34m,\u001b[0m\u001b[0;34m\u001b[0m\u001b[0;34m\u001b[0m\u001b[0m\n\u001b[1;32m    703\u001b[0m             \u001b[0mself\u001b[0m\u001b[0;34m.\u001b[0m\u001b[0m_parent_header\u001b[0m\u001b[0;34m,\u001b[0m\u001b[0;34m\u001b[0m\u001b[0;34m\u001b[0m\u001b[0m\n\u001b[0;32m--> 704\u001b[0;31m             \u001b[0mpassword\u001b[0m\u001b[0;34m=\u001b[0m\u001b[0;32mFalse\u001b[0m\u001b[0;34m,\u001b[0m\u001b[0;34m\u001b[0m\u001b[0;34m\u001b[0m\u001b[0m\n\u001b[0m\u001b[1;32m    705\u001b[0m         )\n\u001b[1;32m    706\u001b[0m \u001b[0;34m\u001b[0m\u001b[0m\n",
            "\u001b[0;32m/usr/local/lib/python3.7/dist-packages/ipykernel/kernelbase.py\u001b[0m in \u001b[0;36m_input_request\u001b[0;34m(self, prompt, ident, parent, password)\u001b[0m\n\u001b[1;32m    732\u001b[0m             \u001b[0;32mexcept\u001b[0m \u001b[0mKeyboardInterrupt\u001b[0m\u001b[0;34m:\u001b[0m\u001b[0;34m\u001b[0m\u001b[0;34m\u001b[0m\u001b[0m\n\u001b[1;32m    733\u001b[0m                 \u001b[0;31m# re-raise KeyboardInterrupt, to truncate traceback\u001b[0m\u001b[0;34m\u001b[0m\u001b[0;34m\u001b[0m\u001b[0;34m\u001b[0m\u001b[0m\n\u001b[0;32m--> 734\u001b[0;31m                 \u001b[0;32mraise\u001b[0m \u001b[0mKeyboardInterrupt\u001b[0m\u001b[0;34m\u001b[0m\u001b[0;34m\u001b[0m\u001b[0m\n\u001b[0m\u001b[1;32m    735\u001b[0m             \u001b[0;32melse\u001b[0m\u001b[0;34m:\u001b[0m\u001b[0;34m\u001b[0m\u001b[0;34m\u001b[0m\u001b[0m\n\u001b[1;32m    736\u001b[0m                 \u001b[0;32mbreak\u001b[0m\u001b[0;34m\u001b[0m\u001b[0;34m\u001b[0m\u001b[0m\n",
            "\u001b[0;31mKeyboardInterrupt\u001b[0m: "
          ]
        }
      ]
    },
    {
      "cell_type": "markdown",
      "metadata": {
        "id": "GUPAgbcjIrm0"
      },
      "source": [
        "# Cargar archivo"
      ]
    },
    {
      "cell_type": "code",
      "metadata": {
        "id": "rmLn8BQeIrm0"
      },
      "source": [
        "ventas=pd.read_excel(\"consolidado_ventas_procesoII080921.xlsx\")"
      ],
      "execution_count": null,
      "outputs": []
    },
    {
      "cell_type": "code",
      "metadata": {
        "colab": {
          "base_uri": "https://localhost:8080/",
          "height": 374
        },
        "id": "fdUYkABnIrm1",
        "outputId": "6c80f8c4-aea1-430a-fe76-5b4ebe3d1797"
      },
      "source": [
        "ventas.head()"
      ],
      "execution_count": null,
      "outputs": [
        {
          "output_type": "execute_result",
          "data": {
            "text/html": [
              "<div>\n",
              "<style scoped>\n",
              "    .dataframe tbody tr th:only-of-type {\n",
              "        vertical-align: middle;\n",
              "    }\n",
              "\n",
              "    .dataframe tbody tr th {\n",
              "        vertical-align: top;\n",
              "    }\n",
              "\n",
              "    .dataframe thead th {\n",
              "        text-align: right;\n",
              "    }\n",
              "</style>\n",
              "<table border=\"1\" class=\"dataframe\">\n",
              "  <thead>\n",
              "    <tr style=\"text-align: right;\">\n",
              "      <th></th>\n",
              "      <th>Anio_Venta</th>\n",
              "      <th>Numero_OrdenID</th>\n",
              "      <th>Posicion</th>\n",
              "      <th>Linea_negocio</th>\n",
              "      <th>Categoria</th>\n",
              "      <th>Anio_Proyecto</th>\n",
              "      <th>ProyectoID</th>\n",
              "      <th>ProductoID</th>\n",
              "      <th>Producto_Completo</th>\n",
              "      <th>Canal_Venta</th>\n",
              "      <th>CanalID</th>\n",
              "      <th>Nombre_Canal_Venta</th>\n",
              "      <th>Oficina_Ventas_Resp</th>\n",
              "      <th>Grupo_Vendedores</th>\n",
              "      <th>Fecha_Pago</th>\n",
              "      <th>Doc_Ref_Factura</th>\n",
              "      <th>No_Documento</th>\n",
              "      <th>Fecha_Transfe_Factura</th>\n",
              "      <th>Código_Orden</th>\n",
              "      <th>Fecha_Salida_Mercancia</th>\n",
              "      <th>Creado_el</th>\n",
              "      <th>Creado_a_las</th>\n",
              "      <th>Creado_por</th>\n",
              "      <th>Via_PagoID</th>\n",
              "      <th>Nombre_Via_Pago</th>\n",
              "      <th>Forma_Pago</th>\n",
              "      <th>SolicitanteID</th>\n",
              "      <th>Nombre_Solicitante</th>\n",
              "      <th>Ced_Nit_Responsable</th>\n",
              "      <th>Nombre_Resp_Pago</th>\n",
              "      <th>Destinatario_mcia</th>\n",
              "      <th>Nombre_Destinatario</th>\n",
              "      <th>Cantidad</th>\n",
              "      <th>Cod_DANE</th>\n",
              "      <th>Ciudad_Entrega</th>\n",
              "      <th>Departamento</th>\n",
              "      <th>Numero_Guia</th>\n",
              "      <th>Estado_Guia</th>\n",
              "      <th>Valor_Bruto_Suscripcion</th>\n",
              "      <th>Dcto_Agencia</th>\n",
              "      <th>Dcto_Cliente</th>\n",
              "      <th>Vr_Neto_sin_IVA</th>\n",
              "      <th>IVA</th>\n",
              "      <th>Vr_Venta_Ticket</th>\n",
              "      <th>Cuotas</th>\n",
              "      <th>Nota_Credito</th>\n",
              "      <th>Doc_finan_nota</th>\n",
              "      <th>Tipo_Producto</th>\n",
              "      <th>Tomo_X_producto</th>\n",
              "      <th>Total_Unidades</th>\n",
              "    </tr>\n",
              "  </thead>\n",
              "  <tbody>\n",
              "    <tr>\n",
              "      <th>0</th>\n",
              "      <td>2017</td>\n",
              "      <td>70000003</td>\n",
              "      <td>10</td>\n",
              "      <td>CO-COLECCIONES</td>\n",
              "      <td>EC-CULTURA</td>\n",
              "      <td>2017</td>\n",
              "      <td>INGLES</td>\n",
              "      <td>ECAI</td>\n",
              "      <td>ECAI INGLES COL T1 AL T30</td>\n",
              "      <td>CALL</td>\n",
              "      <td>0811008963</td>\n",
              "      <td>MULTIENLACE S.A.S.</td>\n",
              "      <td>BOAL</td>\n",
              "      <td>I90</td>\n",
              "      <td>2017-03-01</td>\n",
              "      <td>355814048</td>\n",
              "      <td>4.400031e+09</td>\n",
              "      <td>2017-03-01</td>\n",
              "      <td>2.038647e+09</td>\n",
              "      <td>2017-05-24</td>\n",
              "      <td>2017-03-01</td>\n",
              "      <td>08:35:49</td>\n",
              "      <td>TIEMVENT94</td>\n",
              "      <td>N</td>\n",
              "      <td>N I - Pagos Online</td>\n",
              "      <td>TARJETA DEBITO</td>\n",
              "      <td>0013830399</td>\n",
              "      <td>HERNANDO PÁEZ REY</td>\n",
              "      <td>13830399</td>\n",
              "      <td>HERNANDO PÁEZ REY</td>\n",
              "      <td>13830399</td>\n",
              "      <td>HERNANDO PÁEZ REY</td>\n",
              "      <td>1</td>\n",
              "      <td>11001</td>\n",
              "      <td>11001 BOGOTA   BOGOTA</td>\n",
              "      <td>DISTRITO CAPITAL</td>\n",
              "      <td>24620663</td>\n",
              "      <td>Entregado-Indexado</td>\n",
              "      <td>623000</td>\n",
              "      <td>0</td>\n",
              "      <td>-83980</td>\n",
              "      <td>539020</td>\n",
              "      <td>0</td>\n",
              "      <td>539020</td>\n",
              "      <td>0</td>\n",
              "      <td>NaN</td>\n",
              "      <td>NaN</td>\n",
              "      <td>Col completa</td>\n",
              "      <td>30</td>\n",
              "      <td>30</td>\n",
              "    </tr>\n",
              "    <tr>\n",
              "      <th>1</th>\n",
              "      <td>2017</td>\n",
              "      <td>70000006</td>\n",
              "      <td>10</td>\n",
              "      <td>CO-COLECCIONES</td>\n",
              "      <td>GH-HOGAR</td>\n",
              "      <td>2017</td>\n",
              "      <td>COCINA EXP</td>\n",
              "      <td>GHAE</td>\n",
              "      <td>GHAE COCINA EXPRESS COL T1 AL T10</td>\n",
              "      <td>CALL</td>\n",
              "      <td>0811008963</td>\n",
              "      <td>MULTIENLACE S.A.S.</td>\n",
              "      <td>BOAL</td>\n",
              "      <td>I90</td>\n",
              "      <td>2017-03-01</td>\n",
              "      <td>355813991</td>\n",
              "      <td>4.400031e+09</td>\n",
              "      <td>2017-03-01</td>\n",
              "      <td>2.038154e+09</td>\n",
              "      <td>2017-03-29</td>\n",
              "      <td>2017-03-01</td>\n",
              "      <td>08:35:13</td>\n",
              "      <td>TIEMVENT79</td>\n",
              "      <td>N</td>\n",
              "      <td>N I - Pagos Online</td>\n",
              "      <td>TARJETA DEBITO</td>\n",
              "      <td>0006745936</td>\n",
              "      <td>JORGE ELIECER BUENO DAZA</td>\n",
              "      <td>6745936</td>\n",
              "      <td>JORGE ELIECER BUENO DAZA</td>\n",
              "      <td>6745936</td>\n",
              "      <td>JORGE ELIECER BUENO DAZA</td>\n",
              "      <td>1</td>\n",
              "      <td>11001</td>\n",
              "      <td>11001 BOGOTA   BOGOTA</td>\n",
              "      <td>DISTRITO CAPITAL</td>\n",
              "      <td>24415800</td>\n",
              "      <td>Entregado-Indexado</td>\n",
              "      <td>179000</td>\n",
              "      <td>0</td>\n",
              "      <td>-19994</td>\n",
              "      <td>159006</td>\n",
              "      <td>0</td>\n",
              "      <td>159006</td>\n",
              "      <td>0</td>\n",
              "      <td>NaN</td>\n",
              "      <td>NaN</td>\n",
              "      <td>Col completa</td>\n",
              "      <td>10</td>\n",
              "      <td>10</td>\n",
              "    </tr>\n",
              "    <tr>\n",
              "      <th>2</th>\n",
              "      <td>2017</td>\n",
              "      <td>70000007</td>\n",
              "      <td>10</td>\n",
              "      <td>CO-COLECCIONES</td>\n",
              "      <td>EC-CULTURA</td>\n",
              "      <td>2017</td>\n",
              "      <td>INGLES</td>\n",
              "      <td>ECAC</td>\n",
              "      <td>ECAC INGLES COL T1 ALl T30 CODENSA</td>\n",
              "      <td>CALL</td>\n",
              "      <td>0811008963</td>\n",
              "      <td>MULTIENLACE S.A.S.</td>\n",
              "      <td>BOAL</td>\n",
              "      <td>I90</td>\n",
              "      <td>2017-03-01</td>\n",
              "      <td>6900102074</td>\n",
              "      <td>3.100002e+09</td>\n",
              "      <td>2017-03-01</td>\n",
              "      <td>2.038994e+09</td>\n",
              "      <td>2017-07-04</td>\n",
              "      <td>2017-03-01</td>\n",
              "      <td>08:44:00</td>\n",
              "      <td>TIEMVENT109</td>\n",
              "      <td>F</td>\n",
              "      <td>F I - CODENSA</td>\n",
              "      <td>TARJETA CODENSA</td>\n",
              "      <td>0079570437</td>\n",
              "      <td>CODENSA S.A. SFT</td>\n",
              "      <td>830037248S</td>\n",
              "      <td>CODENSA S.A. SFT</td>\n",
              "      <td>79570437</td>\n",
              "      <td>GUILLERMO HERNANDEZ GARCIA</td>\n",
              "      <td>1</td>\n",
              "      <td>11001</td>\n",
              "      <td>11001 BOGOTA   BOGOTA</td>\n",
              "      <td>DISTRITO CAPITAL</td>\n",
              "      <td>24706789</td>\n",
              "      <td>Entregado-Indexado</td>\n",
              "      <td>623000</td>\n",
              "      <td>0</td>\n",
              "      <td>-83980</td>\n",
              "      <td>539020</td>\n",
              "      <td>0</td>\n",
              "      <td>539020</td>\n",
              "      <td>3</td>\n",
              "      <td>NaN</td>\n",
              "      <td>NaN</td>\n",
              "      <td>Col completa</td>\n",
              "      <td>30</td>\n",
              "      <td>30</td>\n",
              "    </tr>\n",
              "    <tr>\n",
              "      <th>3</th>\n",
              "      <td>2017</td>\n",
              "      <td>70000009</td>\n",
              "      <td>10</td>\n",
              "      <td>CO-COLECCIONES</td>\n",
              "      <td>EC-CULTURA</td>\n",
              "      <td>2017</td>\n",
              "      <td>INGLES</td>\n",
              "      <td>ECAI</td>\n",
              "      <td>ECAI INGLES COL T1 AL T30</td>\n",
              "      <td>CALL</td>\n",
              "      <td>0811008963</td>\n",
              "      <td>MULTIENLACE S.A.S.</td>\n",
              "      <td>BOAL</td>\n",
              "      <td>I90</td>\n",
              "      <td>2017-03-01</td>\n",
              "      <td>355814049</td>\n",
              "      <td>4.400031e+09</td>\n",
              "      <td>2017-03-01</td>\n",
              "      <td>2.038647e+09</td>\n",
              "      <td>2017-05-24</td>\n",
              "      <td>2017-03-01</td>\n",
              "      <td>08:54:49</td>\n",
              "      <td>TIEMVENT85</td>\n",
              "      <td>N</td>\n",
              "      <td>N I - Pagos Online</td>\n",
              "      <td>TARJETA DEBITO</td>\n",
              "      <td>0014210985</td>\n",
              "      <td>VALLEJO  GUSTAVO ADOLFO</td>\n",
              "      <td>14210985</td>\n",
              "      <td>VALLEJO  GUSTAVO ADOLFO</td>\n",
              "      <td>14210985</td>\n",
              "      <td>VALLEJO  GUSTAVO ADOLFO</td>\n",
              "      <td>1</td>\n",
              "      <td>73001</td>\n",
              "      <td>73001 IBAGUE   TOLIMA</td>\n",
              "      <td>TOLIMA</td>\n",
              "      <td>24418132</td>\n",
              "      <td>Entregado-Indexado</td>\n",
              "      <td>623000</td>\n",
              "      <td>0</td>\n",
              "      <td>-83980</td>\n",
              "      <td>539020</td>\n",
              "      <td>0</td>\n",
              "      <td>539020</td>\n",
              "      <td>0</td>\n",
              "      <td>NaN</td>\n",
              "      <td>NaN</td>\n",
              "      <td>Col completa</td>\n",
              "      <td>30</td>\n",
              "      <td>30</td>\n",
              "    </tr>\n",
              "    <tr>\n",
              "      <th>4</th>\n",
              "      <td>2017</td>\n",
              "      <td>70000011</td>\n",
              "      <td>10</td>\n",
              "      <td>CO-COLECCIONES</td>\n",
              "      <td>GH-HOGAR</td>\n",
              "      <td>2017</td>\n",
              "      <td>COCINA EXP</td>\n",
              "      <td>GHAE</td>\n",
              "      <td>GHAE COCINA EXPRESS COL T1 AL T10</td>\n",
              "      <td>CALL</td>\n",
              "      <td>0811008963</td>\n",
              "      <td>MULTIENLACE S.A.S.</td>\n",
              "      <td>BOAL</td>\n",
              "      <td>I90</td>\n",
              "      <td>2017-03-01</td>\n",
              "      <td>355814140</td>\n",
              "      <td>4.400031e+09</td>\n",
              "      <td>2017-03-01</td>\n",
              "      <td>2.038154e+09</td>\n",
              "      <td>2017-03-29</td>\n",
              "      <td>2017-03-01</td>\n",
              "      <td>09:08:41</td>\n",
              "      <td>TIEMVENT94</td>\n",
              "      <td>N</td>\n",
              "      <td>N I - Pagos Online</td>\n",
              "      <td>TARJETA DEBITO</td>\n",
              "      <td>0019292736</td>\n",
              "      <td>JUAN ROBERTO CONTRERAS JIMENEZ</td>\n",
              "      <td>19292736</td>\n",
              "      <td>JUAN ROBERTO CONTRERAS JIMENEZ</td>\n",
              "      <td>19292736</td>\n",
              "      <td>JUAN ROBERTO CONTRERAS JIMENEZ</td>\n",
              "      <td>1</td>\n",
              "      <td>11001</td>\n",
              "      <td>11001 BOGOTA   BOGOTA</td>\n",
              "      <td>DISTRITO CAPITAL</td>\n",
              "      <td>24415762</td>\n",
              "      <td>Entregado-Indexado</td>\n",
              "      <td>179000</td>\n",
              "      <td>0</td>\n",
              "      <td>-19994</td>\n",
              "      <td>159006</td>\n",
              "      <td>0</td>\n",
              "      <td>159006</td>\n",
              "      <td>0</td>\n",
              "      <td>NaN</td>\n",
              "      <td>NaN</td>\n",
              "      <td>Col completa</td>\n",
              "      <td>10</td>\n",
              "      <td>10</td>\n",
              "    </tr>\n",
              "  </tbody>\n",
              "</table>\n",
              "</div>"
            ],
            "text/plain": [
              "   Anio_Venta  Numero_OrdenID  ...  Tomo_X_producto Total_Unidades\n",
              "0        2017        70000003  ...               30             30\n",
              "1        2017        70000006  ...               10             10\n",
              "2        2017        70000007  ...               30             30\n",
              "3        2017        70000009  ...               30             30\n",
              "4        2017        70000011  ...               10             10\n",
              "\n",
              "[5 rows x 50 columns]"
            ]
          },
          "metadata": {},
          "execution_count": 6
        }
      ]
    },
    {
      "cell_type": "code",
      "metadata": {
        "colab": {
          "base_uri": "https://localhost:8080/"
        },
        "id": "hOKREmGc6K5I",
        "outputId": "75e8f682-0861-411f-c6f6-1c98e0095c83"
      },
      "source": [
        "print(ventas.dtypes)"
      ],
      "execution_count": null,
      "outputs": [
        {
          "output_type": "stream",
          "name": "stdout",
          "text": [
            "Anio_Venta                          int64\n",
            "Numero_OrdenID                      int64\n",
            "Posicion                            int64\n",
            "Linea_negocio                      object\n",
            "Categoria                          object\n",
            "Anio_Proyecto                       int64\n",
            "ProyectoID                         object\n",
            "ProductoID                         object\n",
            "Producto_Completo                  object\n",
            "Canal_Venta                        object\n",
            "CanalID                            object\n",
            "Nombre_Canal_Venta                 object\n",
            "Oficina_Ventas_Resp                object\n",
            "Grupo_Vendedores                   object\n",
            "Fecha_Pago                 datetime64[ns]\n",
            "Doc_Ref_Factura                     int64\n",
            "No_Documento                      float64\n",
            "Fecha_Transfe_Factura      datetime64[ns]\n",
            "Código_Orden                      float64\n",
            "Fecha_Salida_Mercancia     datetime64[ns]\n",
            "Creado_el                  datetime64[ns]\n",
            "Creado_a_las                       object\n",
            "Creado_por                         object\n",
            "Via_PagoID                         object\n",
            "Nombre_Via_Pago                    object\n",
            "Forma_Pago                         object\n",
            "SolicitanteID                      object\n",
            "Nombre_Solicitante                 object\n",
            "Ced_Nit_Responsable                object\n",
            "Nombre_Resp_Pago                   object\n",
            "Destinatario_mcia                  object\n",
            "Nombre_Destinatario                object\n",
            "Cantidad                            int64\n",
            "Cod_DANE                            int64\n",
            "Ciudad_Entrega                     object\n",
            "Departamento                       object\n",
            "Numero_Guia                         int64\n",
            "Estado_Guia                        object\n",
            "Valor_Bruto_Suscripcion             int64\n",
            "Dcto_Agencia                        int64\n",
            "Dcto_Cliente                        int64\n",
            "Vr_Neto_sin_IVA                     int64\n",
            "IVA                                 int64\n",
            "Vr_Venta_Ticket                     int64\n",
            "Cuotas                              int64\n",
            "Nota_Credito                      float64\n",
            "Doc_finan_nota                    float64\n",
            "Tipo_Producto                      object\n",
            "Tomo_X_producto                     int64\n",
            "Total_Unidades                      int64\n",
            "dtype: object\n"
          ]
        }
      ]
    },
    {
      "cell_type": "code",
      "metadata": {
        "id": "LSoAahkyIrm6"
      },
      "source": [
        "ventas[\"Linea_negocio\"]=ventas[\"Linea_negocio\"].astype(\"category\")\n",
        "ventas[\"Categoria\"]=ventas[\"Categoria\"].astype(\"category\")\n",
        "ventas[\"ProyectoID\"]=ventas[\"ProyectoID\"].astype(\"category\")\n",
        "ventas[\"ProductoID\"]=ventas[\"ProductoID\"].astype(\"category\")\n",
        "ventas[\"Nombre_Canal_Venta\"]=ventas[\"Nombre_Canal_Venta\"].astype(\"category\")\n",
        "ventas[\"Forma_Pago\"]=ventas[\"Forma_Pago\"].astype(\"category\")\n",
        "ventas[\"Ciudad_Entrega\"]=ventas[\"Ciudad_Entrega\"].astype(\"category\")\n",
        "#ventas[\"Departamento\"]=ventas[\"Departamento\"].astype(\"category\")"
      ],
      "execution_count": null,
      "outputs": []
    },
    {
      "cell_type": "markdown",
      "metadata": {
        "id": "wgyl1HsA6ZRG"
      },
      "source": [
        "Eliminación de columnas innecesarias"
      ]
    },
    {
      "cell_type": "code",
      "metadata": {
        "id": "7o2tDx1sAp2D"
      },
      "source": [
        "ventas_mod = ventas"
      ],
      "execution_count": null,
      "outputs": []
    },
    {
      "cell_type": "code",
      "metadata": {
        "id": "tfhcEGaY6eM5"
      },
      "source": [
        "#ELIMINAR COLUMNAS\n",
        "ventas_mod.drop([\"CanalID\",\"Grupo_Vendedores\", \"Linea_negocio\", \"No_Documento\", \"Creado_a_las\",\"Creado_por\", \"Via_PagoID\", \"Numero_Guia\",\n",
        "                 \"Estado_Guia\", \"Nota_Credito\",\"Doc_finan_nota\", \"ProyectoID\"], axis= 1, inplace=True)"
      ],
      "execution_count": null,
      "outputs": []
    },
    {
      "cell_type": "markdown",
      "metadata": {
        "id": "u4O8yGiWIrm7"
      },
      "source": [
        "# Identificar datos faltantes"
      ]
    },
    {
      "cell_type": "markdown",
      "metadata": {
        "id": "E_6X60vKIrm7"
      },
      "source": [
        "* Reemplazar valores"
      ]
    },
    {
      "cell_type": "code",
      "metadata": {
        "id": "BXRiUCsOIrm8"
      },
      "source": [
        "ventas_mod.replace(\" \", np.nan, inplace = True)"
      ],
      "execution_count": null,
      "outputs": []
    },
    {
      "cell_type": "code",
      "metadata": {
        "colab": {
          "base_uri": "https://localhost:8080/",
          "height": 223
        },
        "id": "SPTUfF76Irm9",
        "outputId": "c7608310-2e95-4389-e396-324491dfca1a"
      },
      "source": [
        "#\"True\" significa valor perdido, mientras que \"False\" significa valor no perdido.\n",
        "datos_faltantes = ventas_mod.isnull()\n",
        "datos_faltantes.head()"
      ],
      "execution_count": null,
      "outputs": [
        {
          "output_type": "execute_result",
          "data": {
            "text/html": [
              "<div>\n",
              "<style scoped>\n",
              "    .dataframe tbody tr th:only-of-type {\n",
              "        vertical-align: middle;\n",
              "    }\n",
              "\n",
              "    .dataframe tbody tr th {\n",
              "        vertical-align: top;\n",
              "    }\n",
              "\n",
              "    .dataframe thead th {\n",
              "        text-align: right;\n",
              "    }\n",
              "</style>\n",
              "<table border=\"1\" class=\"dataframe\">\n",
              "  <thead>\n",
              "    <tr style=\"text-align: right;\">\n",
              "      <th></th>\n",
              "      <th>Anio_Venta</th>\n",
              "      <th>Numero_OrdenID</th>\n",
              "      <th>Posicion</th>\n",
              "      <th>Categoria</th>\n",
              "      <th>Anio_Proyecto</th>\n",
              "      <th>ProductoID</th>\n",
              "      <th>Producto_Completo</th>\n",
              "      <th>Canal_Venta</th>\n",
              "      <th>Nombre_Canal_Venta</th>\n",
              "      <th>Oficina_Ventas_Resp</th>\n",
              "      <th>Fecha_Pago</th>\n",
              "      <th>Doc_Ref_Factura</th>\n",
              "      <th>Fecha_Transfe_Factura</th>\n",
              "      <th>Código_Orden</th>\n",
              "      <th>Fecha_Salida_Mercancia</th>\n",
              "      <th>Creado_el</th>\n",
              "      <th>Nombre_Via_Pago</th>\n",
              "      <th>Forma_Pago</th>\n",
              "      <th>SolicitanteID</th>\n",
              "      <th>Nombre_Solicitante</th>\n",
              "      <th>Ced_Nit_Responsable</th>\n",
              "      <th>Nombre_Resp_Pago</th>\n",
              "      <th>Destinatario_mcia</th>\n",
              "      <th>Nombre_Destinatario</th>\n",
              "      <th>Cantidad</th>\n",
              "      <th>Cod_DANE</th>\n",
              "      <th>Ciudad_Entrega</th>\n",
              "      <th>Departamento</th>\n",
              "      <th>Valor_Bruto_Suscripcion</th>\n",
              "      <th>Dcto_Agencia</th>\n",
              "      <th>Dcto_Cliente</th>\n",
              "      <th>Vr_Neto_sin_IVA</th>\n",
              "      <th>IVA</th>\n",
              "      <th>Vr_Venta_Ticket</th>\n",
              "      <th>Cuotas</th>\n",
              "      <th>Tipo_Producto</th>\n",
              "      <th>Tomo_X_producto</th>\n",
              "      <th>Total_Unidades</th>\n",
              "    </tr>\n",
              "  </thead>\n",
              "  <tbody>\n",
              "    <tr>\n",
              "      <th>0</th>\n",
              "      <td>False</td>\n",
              "      <td>False</td>\n",
              "      <td>False</td>\n",
              "      <td>False</td>\n",
              "      <td>False</td>\n",
              "      <td>False</td>\n",
              "      <td>False</td>\n",
              "      <td>False</td>\n",
              "      <td>False</td>\n",
              "      <td>False</td>\n",
              "      <td>False</td>\n",
              "      <td>False</td>\n",
              "      <td>False</td>\n",
              "      <td>False</td>\n",
              "      <td>False</td>\n",
              "      <td>False</td>\n",
              "      <td>False</td>\n",
              "      <td>False</td>\n",
              "      <td>False</td>\n",
              "      <td>False</td>\n",
              "      <td>False</td>\n",
              "      <td>False</td>\n",
              "      <td>False</td>\n",
              "      <td>False</td>\n",
              "      <td>False</td>\n",
              "      <td>False</td>\n",
              "      <td>False</td>\n",
              "      <td>False</td>\n",
              "      <td>False</td>\n",
              "      <td>False</td>\n",
              "      <td>False</td>\n",
              "      <td>False</td>\n",
              "      <td>False</td>\n",
              "      <td>False</td>\n",
              "      <td>False</td>\n",
              "      <td>False</td>\n",
              "      <td>False</td>\n",
              "      <td>False</td>\n",
              "    </tr>\n",
              "    <tr>\n",
              "      <th>1</th>\n",
              "      <td>False</td>\n",
              "      <td>False</td>\n",
              "      <td>False</td>\n",
              "      <td>False</td>\n",
              "      <td>False</td>\n",
              "      <td>False</td>\n",
              "      <td>False</td>\n",
              "      <td>False</td>\n",
              "      <td>False</td>\n",
              "      <td>False</td>\n",
              "      <td>False</td>\n",
              "      <td>False</td>\n",
              "      <td>False</td>\n",
              "      <td>False</td>\n",
              "      <td>False</td>\n",
              "      <td>False</td>\n",
              "      <td>False</td>\n",
              "      <td>False</td>\n",
              "      <td>False</td>\n",
              "      <td>False</td>\n",
              "      <td>False</td>\n",
              "      <td>False</td>\n",
              "      <td>False</td>\n",
              "      <td>False</td>\n",
              "      <td>False</td>\n",
              "      <td>False</td>\n",
              "      <td>False</td>\n",
              "      <td>False</td>\n",
              "      <td>False</td>\n",
              "      <td>False</td>\n",
              "      <td>False</td>\n",
              "      <td>False</td>\n",
              "      <td>False</td>\n",
              "      <td>False</td>\n",
              "      <td>False</td>\n",
              "      <td>False</td>\n",
              "      <td>False</td>\n",
              "      <td>False</td>\n",
              "    </tr>\n",
              "    <tr>\n",
              "      <th>2</th>\n",
              "      <td>False</td>\n",
              "      <td>False</td>\n",
              "      <td>False</td>\n",
              "      <td>False</td>\n",
              "      <td>False</td>\n",
              "      <td>False</td>\n",
              "      <td>False</td>\n",
              "      <td>False</td>\n",
              "      <td>False</td>\n",
              "      <td>False</td>\n",
              "      <td>False</td>\n",
              "      <td>False</td>\n",
              "      <td>False</td>\n",
              "      <td>False</td>\n",
              "      <td>False</td>\n",
              "      <td>False</td>\n",
              "      <td>False</td>\n",
              "      <td>False</td>\n",
              "      <td>False</td>\n",
              "      <td>False</td>\n",
              "      <td>False</td>\n",
              "      <td>False</td>\n",
              "      <td>False</td>\n",
              "      <td>False</td>\n",
              "      <td>False</td>\n",
              "      <td>False</td>\n",
              "      <td>False</td>\n",
              "      <td>False</td>\n",
              "      <td>False</td>\n",
              "      <td>False</td>\n",
              "      <td>False</td>\n",
              "      <td>False</td>\n",
              "      <td>False</td>\n",
              "      <td>False</td>\n",
              "      <td>False</td>\n",
              "      <td>False</td>\n",
              "      <td>False</td>\n",
              "      <td>False</td>\n",
              "    </tr>\n",
              "    <tr>\n",
              "      <th>3</th>\n",
              "      <td>False</td>\n",
              "      <td>False</td>\n",
              "      <td>False</td>\n",
              "      <td>False</td>\n",
              "      <td>False</td>\n",
              "      <td>False</td>\n",
              "      <td>False</td>\n",
              "      <td>False</td>\n",
              "      <td>False</td>\n",
              "      <td>False</td>\n",
              "      <td>False</td>\n",
              "      <td>False</td>\n",
              "      <td>False</td>\n",
              "      <td>False</td>\n",
              "      <td>False</td>\n",
              "      <td>False</td>\n",
              "      <td>False</td>\n",
              "      <td>False</td>\n",
              "      <td>False</td>\n",
              "      <td>False</td>\n",
              "      <td>False</td>\n",
              "      <td>False</td>\n",
              "      <td>False</td>\n",
              "      <td>False</td>\n",
              "      <td>False</td>\n",
              "      <td>False</td>\n",
              "      <td>False</td>\n",
              "      <td>False</td>\n",
              "      <td>False</td>\n",
              "      <td>False</td>\n",
              "      <td>False</td>\n",
              "      <td>False</td>\n",
              "      <td>False</td>\n",
              "      <td>False</td>\n",
              "      <td>False</td>\n",
              "      <td>False</td>\n",
              "      <td>False</td>\n",
              "      <td>False</td>\n",
              "    </tr>\n",
              "    <tr>\n",
              "      <th>4</th>\n",
              "      <td>False</td>\n",
              "      <td>False</td>\n",
              "      <td>False</td>\n",
              "      <td>False</td>\n",
              "      <td>False</td>\n",
              "      <td>False</td>\n",
              "      <td>False</td>\n",
              "      <td>False</td>\n",
              "      <td>False</td>\n",
              "      <td>False</td>\n",
              "      <td>False</td>\n",
              "      <td>False</td>\n",
              "      <td>False</td>\n",
              "      <td>False</td>\n",
              "      <td>False</td>\n",
              "      <td>False</td>\n",
              "      <td>False</td>\n",
              "      <td>False</td>\n",
              "      <td>False</td>\n",
              "      <td>False</td>\n",
              "      <td>False</td>\n",
              "      <td>False</td>\n",
              "      <td>False</td>\n",
              "      <td>False</td>\n",
              "      <td>False</td>\n",
              "      <td>False</td>\n",
              "      <td>False</td>\n",
              "      <td>False</td>\n",
              "      <td>False</td>\n",
              "      <td>False</td>\n",
              "      <td>False</td>\n",
              "      <td>False</td>\n",
              "      <td>False</td>\n",
              "      <td>False</td>\n",
              "      <td>False</td>\n",
              "      <td>False</td>\n",
              "      <td>False</td>\n",
              "      <td>False</td>\n",
              "    </tr>\n",
              "  </tbody>\n",
              "</table>\n",
              "</div>"
            ],
            "text/plain": [
              "   Anio_Venta  Numero_OrdenID  ...  Tomo_X_producto  Total_Unidades\n",
              "0       False           False  ...            False           False\n",
              "1       False           False  ...            False           False\n",
              "2       False           False  ...            False           False\n",
              "3       False           False  ...            False           False\n",
              "4       False           False  ...            False           False\n",
              "\n",
              "[5 rows x 38 columns]"
            ]
          },
          "metadata": {},
          "execution_count": 12
        }
      ]
    },
    {
      "cell_type": "markdown",
      "metadata": {
        "id": "gFDAH4vOIrm9"
      },
      "source": [
        "* Conteo de nulos por columna"
      ]
    },
    {
      "cell_type": "code",
      "metadata": {
        "colab": {
          "base_uri": "https://localhost:8080/"
        },
        "id": "NCcbgFfZIrm-",
        "outputId": "749a7414-053c-427e-d3e1-5a7b2b0b6b66"
      },
      "source": [
        "for column in datos_faltantes.columns.values.tolist():\n",
        "    print(column)\n",
        "    print (datos_faltantes[column].value_counts())\n",
        "    print(\"\")  "
      ],
      "execution_count": null,
      "outputs": [
        {
          "output_type": "stream",
          "name": "stdout",
          "text": [
            "Anio_Venta\n",
            "False    107879\n",
            "Name: Anio_Venta, dtype: int64\n",
            "\n",
            "Numero_OrdenID\n",
            "False    107879\n",
            "Name: Numero_OrdenID, dtype: int64\n",
            "\n",
            "Posicion\n",
            "False    107879\n",
            "Name: Posicion, dtype: int64\n",
            "\n",
            "Categoria\n",
            "False    107879\n",
            "Name: Categoria, dtype: int64\n",
            "\n",
            "Anio_Proyecto\n",
            "False    107879\n",
            "Name: Anio_Proyecto, dtype: int64\n",
            "\n",
            "ProductoID\n",
            "False    107879\n",
            "Name: ProductoID, dtype: int64\n",
            "\n",
            "Producto_Completo\n",
            "False    107879\n",
            "Name: Producto_Completo, dtype: int64\n",
            "\n",
            "Canal_Venta\n",
            "False    107879\n",
            "Name: Canal_Venta, dtype: int64\n",
            "\n",
            "Nombre_Canal_Venta\n",
            "False    107879\n",
            "Name: Nombre_Canal_Venta, dtype: int64\n",
            "\n",
            "Oficina_Ventas_Resp\n",
            "False    107879\n",
            "Name: Oficina_Ventas_Resp, dtype: int64\n",
            "\n",
            "Fecha_Pago\n",
            "False    106768\n",
            "True       1111\n",
            "Name: Fecha_Pago, dtype: int64\n",
            "\n",
            "Doc_Ref_Factura\n",
            "False    107879\n",
            "Name: Doc_Ref_Factura, dtype: int64\n",
            "\n",
            "Fecha_Transfe_Factura\n",
            "False    107879\n",
            "Name: Fecha_Transfe_Factura, dtype: int64\n",
            "\n",
            "Código_Orden\n",
            "False    105890\n",
            "True       1989\n",
            "Name: Código_Orden, dtype: int64\n",
            "\n",
            "Fecha_Salida_Mercancia\n",
            "False    105890\n",
            "True       1989\n",
            "Name: Fecha_Salida_Mercancia, dtype: int64\n",
            "\n",
            "Creado_el\n",
            "False    107879\n",
            "Name: Creado_el, dtype: int64\n",
            "\n",
            "Nombre_Via_Pago\n",
            "False    107879\n",
            "Name: Nombre_Via_Pago, dtype: int64\n",
            "\n",
            "Forma_Pago\n",
            "False    107879\n",
            "Name: Forma_Pago, dtype: int64\n",
            "\n",
            "SolicitanteID\n",
            "False    107879\n",
            "Name: SolicitanteID, dtype: int64\n",
            "\n",
            "Nombre_Solicitante\n",
            "False    107879\n",
            "Name: Nombre_Solicitante, dtype: int64\n",
            "\n",
            "Ced_Nit_Responsable\n",
            "False    107879\n",
            "Name: Ced_Nit_Responsable, dtype: int64\n",
            "\n",
            "Nombre_Resp_Pago\n",
            "False    107879\n",
            "Name: Nombre_Resp_Pago, dtype: int64\n",
            "\n",
            "Destinatario_mcia\n",
            "False    107879\n",
            "Name: Destinatario_mcia, dtype: int64\n",
            "\n",
            "Nombre_Destinatario\n",
            "False    107879\n",
            "Name: Nombre_Destinatario, dtype: int64\n",
            "\n",
            "Cantidad\n",
            "False    107879\n",
            "Name: Cantidad, dtype: int64\n",
            "\n",
            "Cod_DANE\n",
            "False    107879\n",
            "Name: Cod_DANE, dtype: int64\n",
            "\n",
            "Ciudad_Entrega\n",
            "False    107879\n",
            "Name: Ciudad_Entrega, dtype: int64\n",
            "\n",
            "Departamento\n",
            "False    107879\n",
            "Name: Departamento, dtype: int64\n",
            "\n",
            "Valor_Bruto_Suscripcion\n",
            "False    107879\n",
            "Name: Valor_Bruto_Suscripcion, dtype: int64\n",
            "\n",
            "Dcto_Agencia\n",
            "False    107879\n",
            "Name: Dcto_Agencia, dtype: int64\n",
            "\n",
            "Dcto_Cliente\n",
            "False    107879\n",
            "Name: Dcto_Cliente, dtype: int64\n",
            "\n",
            "Vr_Neto_sin_IVA\n",
            "False    107879\n",
            "Name: Vr_Neto_sin_IVA, dtype: int64\n",
            "\n",
            "IVA\n",
            "False    107879\n",
            "Name: IVA, dtype: int64\n",
            "\n",
            "Vr_Venta_Ticket\n",
            "False    107879\n",
            "Name: Vr_Venta_Ticket, dtype: int64\n",
            "\n",
            "Cuotas\n",
            "False    107879\n",
            "Name: Cuotas, dtype: int64\n",
            "\n",
            "Tipo_Producto\n",
            "False    107879\n",
            "Name: Tipo_Producto, dtype: int64\n",
            "\n",
            "Tomo_X_producto\n",
            "False    107879\n",
            "Name: Tomo_X_producto, dtype: int64\n",
            "\n",
            "Total_Unidades\n",
            "False    107879\n",
            "Name: Total_Unidades, dtype: int64\n",
            "\n"
          ]
        }
      ]
    },
    {
      "cell_type": "markdown",
      "metadata": {
        "id": "v-CwMGgAJcwO"
      },
      "source": [
        "##Codificar los datos"
      ]
    },
    {
      "cell_type": "code",
      "metadata": {
        "id": "LQHvmae8C3NV"
      },
      "source": [
        "ventas_nums = {'Departamento': {'ATLANTICO': 8, 'ANTIOQUIA': 5, 'DISTRITO CAPITAL': 11, 'BOLIVAR': 13, 'BOYACA': 15, 'CALDAS': 17, 'CAQUETA': 18, \n",
        "                 'CAUCA': 19, 'CESAR': 20, 'CORDOBA': 23, 'CUNDINAMARCA': 25, 'CHOCO': 27, 'HUILA': 41, 'GUAJIRA': 44, 'MAGDALENA': 47,\n",
        "                 'META': 50, 'NARINO': 52, 'NORTE SANTANDER': 54, 'QUINDIO': 63, 'RISARALDA': 66, 'SANTANDER': 68, 'SUCRE': 70, 'TOLIMA': 73, \n",
        "                 'VALLE': 76, 'ARAUCA': 81, 'CASANARE': 85, 'PUTUMAYO': 86, 'SAN ANDRES': 88, 'AMAZONAS': 91, 'GUANIA': 94, 'GUAVIARE': 95, \n",
        "                 'VAUPES': 97, 'VICHADA': 99 }, \n",
        "                            \n",
        "                 'Categoria': {'ER-ENTRETENIMIENTO': 1, 'GH-HOGAR': 2, 'JV-JUVENIL': 3, 'EC-CULTURA': 4, 'VT-MOTOR': 5, 'IF-INFANTIL': 6,\n",
        "                                'OD-MODA': 7, 'MN-MANUALIDADES': 8},\n",
        "\n",
        "                 'Forma_Pago': {'TARJETA DEBITO': 1, 'TARJETA CREDITO': 2, 'EFECTIVO - CONSIGNACIONES': 3, 'TARJETA CODENSA': 4, 'CREDITOS': 5},\n",
        "               \n",
        "               'Canal_Venta':{'CALL': 1, 'INTERNET': 2, 'CVS': 3, 'CONCESIONARIO': 4, 'CATÁLOGO': 5, 'VOP': 6, 'LIBRANZA': 7, 'EMPLEADOS': 8,\n",
        "                              'FERIAS':9, 'ALTERNATIVOS': 10},\n",
        "               \n",
        "               'Oficina_Ventas_Resp':{'BOAL': 1, 'BOCV': 2, 'SOCA': 3, 'COBA': 4, 'ANME': 5, 'TOIB': 6, 'ECEC': 7, 'BYTU': 8, 'ORSA': 9, 'CECE': 10,\n",
        "                                      'BOCE': 11, 'LLVI': 12, 'BOSU': 12},\n",
        "               \n",
        "               'Nombre_Via_Pago': {'N I - Pagos Online': 1, '8 I - Tarjeta Crédit': 2, 'H I - PSE Internet T': 3, 'T P - EFECTY': 4, 'F I - CODENSA': 5,\n",
        "                                   '1 I - EFECTIVO': 6, 'B I - TARJETA CREDIT': 7, '4 I - CONSIGNACIONES': 8, 'D I - TARJETA DEBITO': 9, 'O I - CREDITO': 10, \n",
        "                                   'P I - LIBRANZAS': 11, '7 I - TARJETA CR. NO': 12, '3 I - CHEQUES': 13}, \n",
        "               \n",
        "               'Tipo_Producto': {'Col completa': 1, 'Unidades': 2, 'Paquete': 3}\n",
        "               }               "
      ],
      "execution_count": null,
      "outputs": []
    },
    {
      "cell_type": "code",
      "metadata": {
        "id": "LqNg77YMoH__"
      },
      "source": [
        "ventas_mod.replace(ventas_nums, inplace = True)"
      ],
      "execution_count": null,
      "outputs": []
    },
    {
      "cell_type": "code",
      "metadata": {
        "id": "ltCeX4Z_csGZ"
      },
      "source": [
        "df_tiempo = ventas_mod\n",
        "\n",
        "df_tiempo.drop(['ProductoID', 'Producto_Completo', 'Nombre_Canal_Venta', 'Nombre_Solicitante', 'Nombre_Resp_Pago', 'Nombre_Destinatario',\n",
        "                'Ciudad_Entrega', 'Fecha_Pago','Fecha_Transfe_Factura', 'Fecha_Salida_Mercancia', 'Creado_el', 'SolicitanteID', 'Ced_Nit_Responsable', \n",
        "                'Destinatario_mcia', 'Código_Orden', 'Numero_OrdenID','Posicion', 'Categoria','Canal_Venta','Doc_Ref_Factura',\n",
        "                 'Oficina_Ventas_Resp', 'Nombre_Via_Pago', 'Cod_DANE', 'Departamento', 'Valor_Bruto_Suscripcion', 'Dcto_Agencia',\n",
        "                  'Dcto_Cliente',\"Tipo_Producto\", \"Tomo_X_producto\", \"Total_Unidades\"], axis= 1, inplace=True)"
      ],
      "execution_count": null,
      "outputs": []
    },
    {
      "cell_type": "code",
      "metadata": {
        "id": "jyxlfAEDcyVW",
        "colab": {
          "base_uri": "https://localhost:8080/",
          "height": 417
        },
        "outputId": "88d855a6-8cb7-4f0e-afff-073cbab8e5bb"
      },
      "source": [
        "#Creación de base de datos únicamente con las variables a utilizar\n",
        "\n",
        "df_tiempo[[\"Anio_Venta\",\"Anio_Proyecto\", \"Forma_Pago\", \"Cantidad\", \"Vr_Neto_sin_IVA\", \"IVA\", \"Cuotas\"]]"
      ],
      "execution_count": null,
      "outputs": [
        {
          "output_type": "execute_result",
          "data": {
            "text/html": [
              "<div>\n",
              "<style scoped>\n",
              "    .dataframe tbody tr th:only-of-type {\n",
              "        vertical-align: middle;\n",
              "    }\n",
              "\n",
              "    .dataframe tbody tr th {\n",
              "        vertical-align: top;\n",
              "    }\n",
              "\n",
              "    .dataframe thead th {\n",
              "        text-align: right;\n",
              "    }\n",
              "</style>\n",
              "<table border=\"1\" class=\"dataframe\">\n",
              "  <thead>\n",
              "    <tr style=\"text-align: right;\">\n",
              "      <th></th>\n",
              "      <th>Anio_Venta</th>\n",
              "      <th>Anio_Proyecto</th>\n",
              "      <th>Forma_Pago</th>\n",
              "      <th>Cantidad</th>\n",
              "      <th>Vr_Neto_sin_IVA</th>\n",
              "      <th>IVA</th>\n",
              "      <th>Cuotas</th>\n",
              "    </tr>\n",
              "  </thead>\n",
              "  <tbody>\n",
              "    <tr>\n",
              "      <th>0</th>\n",
              "      <td>2017</td>\n",
              "      <td>2017</td>\n",
              "      <td>1</td>\n",
              "      <td>1</td>\n",
              "      <td>539020</td>\n",
              "      <td>0</td>\n",
              "      <td>0</td>\n",
              "    </tr>\n",
              "    <tr>\n",
              "      <th>1</th>\n",
              "      <td>2017</td>\n",
              "      <td>2017</td>\n",
              "      <td>1</td>\n",
              "      <td>1</td>\n",
              "      <td>159006</td>\n",
              "      <td>0</td>\n",
              "      <td>0</td>\n",
              "    </tr>\n",
              "    <tr>\n",
              "      <th>2</th>\n",
              "      <td>2017</td>\n",
              "      <td>2017</td>\n",
              "      <td>4</td>\n",
              "      <td>1</td>\n",
              "      <td>539020</td>\n",
              "      <td>0</td>\n",
              "      <td>3</td>\n",
              "    </tr>\n",
              "    <tr>\n",
              "      <th>3</th>\n",
              "      <td>2017</td>\n",
              "      <td>2017</td>\n",
              "      <td>1</td>\n",
              "      <td>1</td>\n",
              "      <td>539020</td>\n",
              "      <td>0</td>\n",
              "      <td>0</td>\n",
              "    </tr>\n",
              "    <tr>\n",
              "      <th>4</th>\n",
              "      <td>2017</td>\n",
              "      <td>2017</td>\n",
              "      <td>1</td>\n",
              "      <td>1</td>\n",
              "      <td>159006</td>\n",
              "      <td>0</td>\n",
              "      <td>0</td>\n",
              "    </tr>\n",
              "    <tr>\n",
              "      <th>...</th>\n",
              "      <td>...</td>\n",
              "      <td>...</td>\n",
              "      <td>...</td>\n",
              "      <td>...</td>\n",
              "      <td>...</td>\n",
              "      <td>...</td>\n",
              "      <td>...</td>\n",
              "    </tr>\n",
              "    <tr>\n",
              "      <th>107874</th>\n",
              "      <td>2021</td>\n",
              "      <td>2021</td>\n",
              "      <td>2</td>\n",
              "      <td>1</td>\n",
              "      <td>698993</td>\n",
              "      <td>0</td>\n",
              "      <td>0</td>\n",
              "    </tr>\n",
              "    <tr>\n",
              "      <th>107875</th>\n",
              "      <td>2021</td>\n",
              "      <td>2021</td>\n",
              "      <td>2</td>\n",
              "      <td>1</td>\n",
              "      <td>65800</td>\n",
              "      <td>0</td>\n",
              "      <td>0</td>\n",
              "    </tr>\n",
              "    <tr>\n",
              "      <th>107876</th>\n",
              "      <td>2021</td>\n",
              "      <td>2021</td>\n",
              "      <td>1</td>\n",
              "      <td>1</td>\n",
              "      <td>214899</td>\n",
              "      <td>0</td>\n",
              "      <td>0</td>\n",
              "    </tr>\n",
              "    <tr>\n",
              "      <th>107877</th>\n",
              "      <td>2021</td>\n",
              "      <td>2021</td>\n",
              "      <td>1</td>\n",
              "      <td>1</td>\n",
              "      <td>214899</td>\n",
              "      <td>0</td>\n",
              "      <td>0</td>\n",
              "    </tr>\n",
              "    <tr>\n",
              "      <th>107878</th>\n",
              "      <td>2021</td>\n",
              "      <td>2021</td>\n",
              "      <td>1</td>\n",
              "      <td>1</td>\n",
              "      <td>65882</td>\n",
              "      <td>12518</td>\n",
              "      <td>0</td>\n",
              "    </tr>\n",
              "  </tbody>\n",
              "</table>\n",
              "<p>107879 rows × 7 columns</p>\n",
              "</div>"
            ],
            "text/plain": [
              "        Anio_Venta  Anio_Proyecto  Forma_Pago  ...  Vr_Neto_sin_IVA    IVA  Cuotas\n",
              "0             2017           2017           1  ...           539020      0       0\n",
              "1             2017           2017           1  ...           159006      0       0\n",
              "2             2017           2017           4  ...           539020      0       3\n",
              "3             2017           2017           1  ...           539020      0       0\n",
              "4             2017           2017           1  ...           159006      0       0\n",
              "...            ...            ...         ...  ...              ...    ...     ...\n",
              "107874        2021           2021           2  ...           698993      0       0\n",
              "107875        2021           2021           2  ...            65800      0       0\n",
              "107876        2021           2021           1  ...           214899      0       0\n",
              "107877        2021           2021           1  ...           214899      0       0\n",
              "107878        2021           2021           1  ...            65882  12518       0\n",
              "\n",
              "[107879 rows x 7 columns]"
            ]
          },
          "metadata": {},
          "execution_count": 18
        }
      ]
    },
    {
      "cell_type": "code",
      "metadata": {
        "colab": {
          "base_uri": "https://localhost:8080/",
          "height": 203
        },
        "id": "18ZOnSih25L1",
        "outputId": "986ac97c-e868-425f-b2cc-1eff631e8e2d"
      },
      "source": [
        "df_tiempo.head()"
      ],
      "execution_count": null,
      "outputs": [
        {
          "output_type": "execute_result",
          "data": {
            "text/html": [
              "<div>\n",
              "<style scoped>\n",
              "    .dataframe tbody tr th:only-of-type {\n",
              "        vertical-align: middle;\n",
              "    }\n",
              "\n",
              "    .dataframe tbody tr th {\n",
              "        vertical-align: top;\n",
              "    }\n",
              "\n",
              "    .dataframe thead th {\n",
              "        text-align: right;\n",
              "    }\n",
              "</style>\n",
              "<table border=\"1\" class=\"dataframe\">\n",
              "  <thead>\n",
              "    <tr style=\"text-align: right;\">\n",
              "      <th></th>\n",
              "      <th>Anio_Venta</th>\n",
              "      <th>Anio_Proyecto</th>\n",
              "      <th>Forma_Pago</th>\n",
              "      <th>Cantidad</th>\n",
              "      <th>Vr_Neto_sin_IVA</th>\n",
              "      <th>IVA</th>\n",
              "      <th>Vr_Venta_Ticket</th>\n",
              "      <th>Cuotas</th>\n",
              "    </tr>\n",
              "  </thead>\n",
              "  <tbody>\n",
              "    <tr>\n",
              "      <th>0</th>\n",
              "      <td>2017</td>\n",
              "      <td>2017</td>\n",
              "      <td>1</td>\n",
              "      <td>1</td>\n",
              "      <td>539020</td>\n",
              "      <td>0</td>\n",
              "      <td>539020</td>\n",
              "      <td>0</td>\n",
              "    </tr>\n",
              "    <tr>\n",
              "      <th>1</th>\n",
              "      <td>2017</td>\n",
              "      <td>2017</td>\n",
              "      <td>1</td>\n",
              "      <td>1</td>\n",
              "      <td>159006</td>\n",
              "      <td>0</td>\n",
              "      <td>159006</td>\n",
              "      <td>0</td>\n",
              "    </tr>\n",
              "    <tr>\n",
              "      <th>2</th>\n",
              "      <td>2017</td>\n",
              "      <td>2017</td>\n",
              "      <td>4</td>\n",
              "      <td>1</td>\n",
              "      <td>539020</td>\n",
              "      <td>0</td>\n",
              "      <td>539020</td>\n",
              "      <td>3</td>\n",
              "    </tr>\n",
              "    <tr>\n",
              "      <th>3</th>\n",
              "      <td>2017</td>\n",
              "      <td>2017</td>\n",
              "      <td>1</td>\n",
              "      <td>1</td>\n",
              "      <td>539020</td>\n",
              "      <td>0</td>\n",
              "      <td>539020</td>\n",
              "      <td>0</td>\n",
              "    </tr>\n",
              "    <tr>\n",
              "      <th>4</th>\n",
              "      <td>2017</td>\n",
              "      <td>2017</td>\n",
              "      <td>1</td>\n",
              "      <td>1</td>\n",
              "      <td>159006</td>\n",
              "      <td>0</td>\n",
              "      <td>159006</td>\n",
              "      <td>0</td>\n",
              "    </tr>\n",
              "  </tbody>\n",
              "</table>\n",
              "</div>"
            ],
            "text/plain": [
              "   Anio_Venta  Anio_Proyecto  Forma_Pago  ...  IVA  Vr_Venta_Ticket  Cuotas\n",
              "0        2017           2017           1  ...    0           539020       0\n",
              "1        2017           2017           1  ...    0           159006       0\n",
              "2        2017           2017           4  ...    0           539020       3\n",
              "3        2017           2017           1  ...    0           539020       0\n",
              "4        2017           2017           1  ...    0           159006       0\n",
              "\n",
              "[5 rows x 8 columns]"
            ]
          },
          "metadata": {},
          "execution_count": 19
        }
      ]
    },
    {
      "cell_type": "code",
      "metadata": {
        "colab": {
          "base_uri": "https://localhost:8080/"
        },
        "id": "QXOvGtD3Mw-Y",
        "outputId": "7259a078-24bd-4a27-9583-3691878d8dfb"
      },
      "source": [
        "df_tiempo.dtypes"
      ],
      "execution_count": null,
      "outputs": [
        {
          "output_type": "execute_result",
          "data": {
            "text/plain": [
              "Anio_Venta         int64\n",
              "Anio_Proyecto      int64\n",
              "Forma_Pago         int64\n",
              "Cantidad           int64\n",
              "Vr_Neto_sin_IVA    int64\n",
              "IVA                int64\n",
              "Vr_Venta_Ticket    int64\n",
              "Cuotas             int64\n",
              "dtype: object"
            ]
          },
          "metadata": {},
          "execution_count": 20
        }
      ]
    },
    {
      "cell_type": "code",
      "metadata": {
        "colab": {
          "base_uri": "https://localhost:8080/",
          "height": 417
        },
        "id": "2bGmmQgTSwRP",
        "outputId": "35e19cb3-e574-4de4-d232-10415ccb3bfc"
      },
      "source": [
        "#todos\n",
        "df_tiempo"
      ],
      "execution_count": null,
      "outputs": [
        {
          "output_type": "execute_result",
          "data": {
            "text/html": [
              "<div>\n",
              "<style scoped>\n",
              "    .dataframe tbody tr th:only-of-type {\n",
              "        vertical-align: middle;\n",
              "    }\n",
              "\n",
              "    .dataframe tbody tr th {\n",
              "        vertical-align: top;\n",
              "    }\n",
              "\n",
              "    .dataframe thead th {\n",
              "        text-align: right;\n",
              "    }\n",
              "</style>\n",
              "<table border=\"1\" class=\"dataframe\">\n",
              "  <thead>\n",
              "    <tr style=\"text-align: right;\">\n",
              "      <th></th>\n",
              "      <th>Anio_Venta</th>\n",
              "      <th>Anio_Proyecto</th>\n",
              "      <th>Forma_Pago</th>\n",
              "      <th>Cantidad</th>\n",
              "      <th>Vr_Neto_sin_IVA</th>\n",
              "      <th>IVA</th>\n",
              "      <th>Vr_Venta_Ticket</th>\n",
              "      <th>Cuotas</th>\n",
              "    </tr>\n",
              "  </thead>\n",
              "  <tbody>\n",
              "    <tr>\n",
              "      <th>0</th>\n",
              "      <td>2017</td>\n",
              "      <td>2017</td>\n",
              "      <td>1</td>\n",
              "      <td>1</td>\n",
              "      <td>539020</td>\n",
              "      <td>0</td>\n",
              "      <td>539020</td>\n",
              "      <td>0</td>\n",
              "    </tr>\n",
              "    <tr>\n",
              "      <th>1</th>\n",
              "      <td>2017</td>\n",
              "      <td>2017</td>\n",
              "      <td>1</td>\n",
              "      <td>1</td>\n",
              "      <td>159006</td>\n",
              "      <td>0</td>\n",
              "      <td>159006</td>\n",
              "      <td>0</td>\n",
              "    </tr>\n",
              "    <tr>\n",
              "      <th>2</th>\n",
              "      <td>2017</td>\n",
              "      <td>2017</td>\n",
              "      <td>4</td>\n",
              "      <td>1</td>\n",
              "      <td>539020</td>\n",
              "      <td>0</td>\n",
              "      <td>539020</td>\n",
              "      <td>3</td>\n",
              "    </tr>\n",
              "    <tr>\n",
              "      <th>3</th>\n",
              "      <td>2017</td>\n",
              "      <td>2017</td>\n",
              "      <td>1</td>\n",
              "      <td>1</td>\n",
              "      <td>539020</td>\n",
              "      <td>0</td>\n",
              "      <td>539020</td>\n",
              "      <td>0</td>\n",
              "    </tr>\n",
              "    <tr>\n",
              "      <th>4</th>\n",
              "      <td>2017</td>\n",
              "      <td>2017</td>\n",
              "      <td>1</td>\n",
              "      <td>1</td>\n",
              "      <td>159006</td>\n",
              "      <td>0</td>\n",
              "      <td>159006</td>\n",
              "      <td>0</td>\n",
              "    </tr>\n",
              "    <tr>\n",
              "      <th>...</th>\n",
              "      <td>...</td>\n",
              "      <td>...</td>\n",
              "      <td>...</td>\n",
              "      <td>...</td>\n",
              "      <td>...</td>\n",
              "      <td>...</td>\n",
              "      <td>...</td>\n",
              "      <td>...</td>\n",
              "    </tr>\n",
              "    <tr>\n",
              "      <th>107874</th>\n",
              "      <td>2021</td>\n",
              "      <td>2021</td>\n",
              "      <td>2</td>\n",
              "      <td>1</td>\n",
              "      <td>698993</td>\n",
              "      <td>0</td>\n",
              "      <td>698993</td>\n",
              "      <td>0</td>\n",
              "    </tr>\n",
              "    <tr>\n",
              "      <th>107875</th>\n",
              "      <td>2021</td>\n",
              "      <td>2021</td>\n",
              "      <td>2</td>\n",
              "      <td>1</td>\n",
              "      <td>65800</td>\n",
              "      <td>0</td>\n",
              "      <td>65800</td>\n",
              "      <td>0</td>\n",
              "    </tr>\n",
              "    <tr>\n",
              "      <th>107876</th>\n",
              "      <td>2021</td>\n",
              "      <td>2021</td>\n",
              "      <td>1</td>\n",
              "      <td>1</td>\n",
              "      <td>214899</td>\n",
              "      <td>0</td>\n",
              "      <td>214899</td>\n",
              "      <td>0</td>\n",
              "    </tr>\n",
              "    <tr>\n",
              "      <th>107877</th>\n",
              "      <td>2021</td>\n",
              "      <td>2021</td>\n",
              "      <td>1</td>\n",
              "      <td>1</td>\n",
              "      <td>214899</td>\n",
              "      <td>0</td>\n",
              "      <td>214899</td>\n",
              "      <td>0</td>\n",
              "    </tr>\n",
              "    <tr>\n",
              "      <th>107878</th>\n",
              "      <td>2021</td>\n",
              "      <td>2021</td>\n",
              "      <td>1</td>\n",
              "      <td>1</td>\n",
              "      <td>65882</td>\n",
              "      <td>12518</td>\n",
              "      <td>78400</td>\n",
              "      <td>0</td>\n",
              "    </tr>\n",
              "  </tbody>\n",
              "</table>\n",
              "<p>107879 rows × 8 columns</p>\n",
              "</div>"
            ],
            "text/plain": [
              "        Anio_Venta  Anio_Proyecto  Forma_Pago  ...    IVA  Vr_Venta_Ticket  Cuotas\n",
              "0             2017           2017           1  ...      0           539020       0\n",
              "1             2017           2017           1  ...      0           159006       0\n",
              "2             2017           2017           4  ...      0           539020       3\n",
              "3             2017           2017           1  ...      0           539020       0\n",
              "4             2017           2017           1  ...      0           159006       0\n",
              "...            ...            ...         ...  ...    ...              ...     ...\n",
              "107874        2021           2021           2  ...      0           698993       0\n",
              "107875        2021           2021           2  ...      0            65800       0\n",
              "107876        2021           2021           1  ...      0           214899       0\n",
              "107877        2021           2021           1  ...      0           214899       0\n",
              "107878        2021           2021           1  ...  12518            78400       0\n",
              "\n",
              "[107879 rows x 8 columns]"
            ]
          },
          "metadata": {},
          "execution_count": 67
        }
      ]
    },
    {
      "cell_type": "markdown",
      "metadata": {
        "id": "x1pHoqQ0kGB8"
      },
      "source": [
        "## Regularización Ridge, Lasso y Elastic Net###\n",
        "\n",
        "---\n",
        "\n",
        "\n",
        "\n",
        "---\n",
        "\n"
      ]
    },
    {
      "cell_type": "markdown",
      "metadata": {
        "id": "UgF75Q0pSdla"
      },
      "source": [
        "###Todos los tipos de producto"
      ]
    },
    {
      "cell_type": "markdown",
      "metadata": {
        "id": "Tyoh24krdjd4"
      },
      "source": [
        "###Lasso ###\n",
        "\n",
        "---\n",
        "\n"
      ]
    },
    {
      "cell_type": "code",
      "metadata": {
        "id": "7iR4Hbmfdi0I"
      },
      "source": [
        "#Librerías\n",
        "\n",
        "from scipy.stats import pearsonr\n",
        "from sklearn.model_selection import train_test_split\n",
        "from sklearn.metrics import mean_squared_error\n",
        "from sklearn.linear_model import LinearRegression\n",
        "from sklearn.linear_model import Ridge\n",
        "from sklearn.linear_model import Lasso\n",
        "from sklearn.linear_model import ElasticNet\n",
        "from sklearn.linear_model import RidgeCV\n",
        "from sklearn.linear_model import LassoCV\n",
        "from sklearn.linear_model import ElasticNetCV\n",
        "from sklearn.datasets import make_blobs"
      ],
      "execution_count": null,
      "outputs": []
    },
    {
      "cell_type": "code",
      "metadata": {
        "id": "5Y20Fs3peDfb"
      },
      "source": [
        "#Matplotlib\n",
        "\n",
        "plt.rcParams['image.cmap'] = \"bwr\"\n",
        "#plt.rcParams['figure.dpi'] = \"100\"\n",
        "plt.rcParams['savefig.bbox'] = \"tight\"\n",
        "#style.use('ggplot') or plt.style.use('ggplot')\n",
        "\n",
        "# Configuración de warnings\n",
        "import warnings\n",
        "warnings.filterwarnings('ignore')"
      ],
      "execution_count": null,
      "outputs": []
    },
    {
      "cell_type": "code",
      "metadata": {
        "colab": {
          "base_uri": "https://localhost:8080/",
          "height": 203
        },
        "id": "r28iiupqhMCO",
        "outputId": "2237271a-d2b2-4456-ca12-236f261cb629"
      },
      "source": [
        "# Correlación entre columnas numéricas\n",
        "\n",
        "def tidy_corr_matrix(corr_mat):\n",
        "    '''\n",
        "    Función para convertir una matriz de correlación de pandas en formato tidy\n",
        "    '''\n",
        "    corr_mat = corr_mat.stack().reset_index()\n",
        "    corr_mat.columns = ['variable_1','variable_2','r']\n",
        "    corr_mat = corr_mat.loc[corr_mat['variable_1'] != corr_mat['variable_2'], :]\n",
        "    corr_mat['abs_r'] = np.abs(corr_mat['r'])\n",
        "    corr_mat = corr_mat.sort_values('abs_r', ascending=False)\n",
        "    \n",
        "    return(corr_mat)\n",
        "\n",
        "corr_matrix = df_tiempo.select_dtypes(include=['float64', 'int']) \\\n",
        "              .corr(method='pearson')\n",
        "display(tidy_corr_matrix(corr_matrix).head(5))"
      ],
      "execution_count": null,
      "outputs": [
        {
          "output_type": "display_data",
          "data": {
            "text/html": [
              "<div>\n",
              "<style scoped>\n",
              "    .dataframe tbody tr th:only-of-type {\n",
              "        vertical-align: middle;\n",
              "    }\n",
              "\n",
              "    .dataframe tbody tr th {\n",
              "        vertical-align: top;\n",
              "    }\n",
              "\n",
              "    .dataframe thead th {\n",
              "        text-align: right;\n",
              "    }\n",
              "</style>\n",
              "<table border=\"1\" class=\"dataframe\">\n",
              "  <thead>\n",
              "    <tr style=\"text-align: right;\">\n",
              "      <th></th>\n",
              "      <th>variable_1</th>\n",
              "      <th>variable_2</th>\n",
              "      <th>r</th>\n",
              "      <th>abs_r</th>\n",
              "    </tr>\n",
              "  </thead>\n",
              "  <tbody>\n",
              "    <tr>\n",
              "      <th>52</th>\n",
              "      <td>Vr_Venta_Ticket</td>\n",
              "      <td>Vr_Neto_sin_IVA</td>\n",
              "      <td>0.998852</td>\n",
              "      <td>0.998852</td>\n",
              "    </tr>\n",
              "    <tr>\n",
              "      <th>38</th>\n",
              "      <td>Vr_Neto_sin_IVA</td>\n",
              "      <td>Vr_Venta_Ticket</td>\n",
              "      <td>0.998852</td>\n",
              "      <td>0.998852</td>\n",
              "    </tr>\n",
              "    <tr>\n",
              "      <th>1</th>\n",
              "      <td>Anio_Venta</td>\n",
              "      <td>Anio_Proyecto</td>\n",
              "      <td>0.951442</td>\n",
              "      <td>0.951442</td>\n",
              "    </tr>\n",
              "    <tr>\n",
              "      <th>8</th>\n",
              "      <td>Anio_Proyecto</td>\n",
              "      <td>Anio_Venta</td>\n",
              "      <td>0.951442</td>\n",
              "      <td>0.951442</td>\n",
              "    </tr>\n",
              "    <tr>\n",
              "      <th>23</th>\n",
              "      <td>Forma_Pago</td>\n",
              "      <td>Cuotas</td>\n",
              "      <td>0.483616</td>\n",
              "      <td>0.483616</td>\n",
              "    </tr>\n",
              "  </tbody>\n",
              "</table>\n",
              "</div>"
            ],
            "text/plain": [
              "         variable_1       variable_2         r     abs_r\n",
              "52  Vr_Venta_Ticket  Vr_Neto_sin_IVA  0.998852  0.998852\n",
              "38  Vr_Neto_sin_IVA  Vr_Venta_Ticket  0.998852  0.998852\n",
              "1        Anio_Venta    Anio_Proyecto  0.951442  0.951442\n",
              "8     Anio_Proyecto       Anio_Venta  0.951442  0.951442\n",
              "23       Forma_Pago           Cuotas  0.483616  0.483616"
            ]
          },
          "metadata": {}
        }
      ]
    },
    {
      "cell_type": "code",
      "metadata": {
        "colab": {
          "base_uri": "https://localhost:8080/",
          "height": 470
        },
        "id": "XiMwumDki5LP",
        "outputId": "e46086ca-a5f7-4dfe-f671-6413874f7b82"
      },
      "source": [
        "# Heatmap \n",
        "# Matriz de Correlaciones\n",
        "\n",
        "\n",
        "fig, ax = plt.subplots(nrows=1, ncols=1, figsize=(8, 8))\n",
        "\n",
        "sns.heatmap(\n",
        "    corr_matrix,\n",
        "    square    = True,\n",
        "    ax        = ax\n",
        ")\n",
        "\n",
        "ax.tick_params(labelsize = 3)"
      ],
      "execution_count": null,
      "outputs": [
        {
          "output_type": "display_data",
          "data": {
            "image/png": "[encoded data removed]",
            "text/plain": [
              "<Figure size 576x576 with 2 Axes>"
            ]
          },
          "metadata": {
            "needs_background": "light"
          }
        }
      ]
    },
    {
      "cell_type": "code",
      "metadata": {
        "id": "gJbppwERjW2q"
      },
      "source": [
        "X = df_tiempo.drop(columns = \"Vr_Venta_Ticket\")\n",
        "y = df_tiempo['Vr_Venta_Ticket'].values\n",
        "\n",
        "matriztodas = X_train, X_test, y_train, y_test = train_test_split(X, y,\n",
        "                                                    train_size = 0.70,\n",
        "                                                    random_state = 1234,\n",
        "                                                    shuffle = True )"
      ],
      "execution_count": null,
      "outputs": []
    },
    {
      "cell_type": "markdown",
      "metadata": {
        "id": "TUxcVA7vj3bv"
      },
      "source": [
        "###Ridge## \n",
        "\n",
        "---\n",
        "\n"
      ]
    },
    {
      "cell_type": "markdown",
      "metadata": {
        "id": "ZfinVy4KOecD"
      },
      "source": [
        "#Todos los tipos de producto"
      ]
    },
    {
      "cell_type": "code",
      "metadata": {
        "id": "PpuxT9eGkT9D"
      },
      "source": [
        "# Creación y entrenamiento del modelo (con búsqueda por CV del valor óptimo alpha)\n",
        "# ==============================================================================\n",
        "# Por defecto RidgeCV utiliza el mean squared error\n",
        "modelotodas = RidgeCV(\n",
        "            alphas          = np.logspace(-10, 2, 200),\n",
        "            fit_intercept   = True,\n",
        "            normalize       = True,\n",
        "            store_cv_values = True\n",
        "         )\n",
        "\n",
        "matriztodas = modelotodas.fit(X = X_train, y = y_train)"
      ],
      "execution_count": null,
      "outputs": []
    },
    {
      "cell_type": "code",
      "metadata": {
        "colab": {
          "base_uri": "https://localhost:8080/",
          "height": 290
        },
        "id": "NxU6ybmaaB4s",
        "outputId": "e25d9ce4-78dc-4c4b-b536-dd93c2dc703a"
      },
      "source": [
        "# Evolución de los coeficientes en función de alpha\n",
        "# ==============================================================================\n",
        "alphas = modelotodas.alphas\n",
        "coefs = []\n",
        "\n",
        "for alpha in alphas:\n",
        "    modelotodas_temp = Ridge(alpha=alpha, fit_intercept=False, normalize=True)\n",
        "    modelotodas_temp.fit(X_train, y_train)\n",
        "    coefs.append(modelotodas_temp.coef_.flatten())\n",
        "\n",
        "fig, ax = plt.subplots(figsize=(7, 3.84))\n",
        "ax.plot(alphas, coefs)\n",
        "ax.set_xscale('log')\n",
        "ax.set_xlabel('alpha')\n",
        "ax.set_ylabel('coeficientes')\n",
        "ax.set_title('Coeficientes del modelo en función de la regularización');\n",
        "plt.axis('tight')\n",
        "plt.show()"
      ],
      "execution_count": null,
      "outputs": [
        {
          "output_type": "display_data",
          "data": {
            "image/png": "[encoded data removed]",
            "text/plain": [
              "<Figure size 504x276.48 with 1 Axes>"
            ]
          },
          "metadata": {
            "needs_background": "light"
          }
        }
      ]
    },
    {
      "cell_type": "code",
      "metadata": {
        "colab": {
          "base_uri": "https://localhost:8080/",
          "height": 290
        },
        "id": "RkkoClmvPBdZ",
        "outputId": "a1a94457-717a-406c-a295-16617ed7096c"
      },
      "source": [
        "# Aumenta el valor de alpha, la regularización es mayor y el valor de los coeficientes se reduce.\n",
        "# Evolución del error en función de alpha\n",
        "# ==============================================================================\n",
        "# modelo.cv_values almacena el mse de cv para cada valor de alpha. Tiene\n",
        "# dimensiones (n_samples, n_targets, n_alphas)\n",
        "mse_cv = modelotodas.cv_values_.reshape((-1, 200)).mean(axis=0)\n",
        "mse_sd = modelotodas.cv_values_.reshape((-1, 200)).std(axis=0)\n",
        "\n",
        "# Se aplica la raíz cuadrada para pasar de mse a rmse\n",
        "rmse_cv = np.sqrt(mse_cv)\n",
        "rmse_sd = np.sqrt(mse_sd)\n",
        "\n",
        "# Se identifica el óptimo y el óptimo + 1std\n",
        "min_rmse     = np.min(rmse_cv)\n",
        "sd_min_rmse  = rmse_sd[np.argmin(rmse_cv)]\n",
        "min_rsme_1sd = np.max(rmse_cv[rmse_cv <= min_rmse + sd_min_rmse])\n",
        "optimo       = modelotodas.alphas[np.argmin(rmse_cv)]\n",
        "optimo_1sd   = modelotodas.alphas[rmse_cv == min_rsme_1sd]\n",
        "\n",
        "\n",
        "# Gráfico del error +- 1 desviación estándar\n",
        "fig, ax = plt.subplots(figsize=(7, 3.84))\n",
        "ax.plot(modelotodas.alphas, rmse_cv)\n",
        "ax.fill_between(\n",
        "    modelotodas.alphas,\n",
        "    rmse_cv + rmse_sd,\n",
        "    rmse_cv - rmse_sd,\n",
        "    alpha=0.2\n",
        ")\n",
        "\n",
        "ax.axvline(\n",
        "    x         = optimo,\n",
        "    c         = \"gray\",\n",
        "    linestyle = '--',\n",
        "    label     = 'óptimo'\n",
        ")\n",
        "\n",
        "ax.axvline(\n",
        "    x         = optimo_1sd,\n",
        "    c         = \"blue\",\n",
        "    linestyle = '--',\n",
        "    label     = 'óptimo_1sd'\n",
        ")\n",
        "ax.set_xscale('log')\n",
        "ax.set_ylim([0,None])\n",
        "ax.set_title('Evolución del error CV en función de la regularización')\n",
        "ax.set_xlabel('alpha')\n",
        "ax.set_ylabel('RMSE')\n",
        "plt.legend();"
      ],
      "execution_count": null,
      "outputs": [
        {
          "output_type": "display_data",
          "data": {
            "image/png": "[encoded data removed]",
            "text/plain": [
              "<Figure size 504x276.48 with 1 Axes>"
            ]
          },
          "metadata": {
            "needs_background": "light"
          }
        }
      ]
    },
    {
      "cell_type": "code",
      "metadata": {
        "colab": {
          "base_uri": "https://localhost:8080/"
        },
        "id": "iQg3EeLQPS2S",
        "outputId": "bff8bf74-9118-4a14-903b-67b39a2dfb0e"
      },
      "source": [
        "# Mejor valor alpha encontrado\n",
        "# ==============================================================================\n",
        "print(f\"Mejor valor de alpha encontrado todos los tipos de productos: {modelotodas.alpha_}\")"
      ],
      "execution_count": null,
      "outputs": [
        {
          "output_type": "stream",
          "name": "stdout",
          "text": [
            "Mejor valor de alpha encontrado todos los tipos de productos: 1e-10\n"
          ]
        }
      ]
    },
    {
      "cell_type": "code",
      "metadata": {
        "colab": {
          "base_uri": "https://localhost:8080/",
          "height": 317
        },
        "id": "R1inSI39PeJl",
        "outputId": "a60b11b8-0222-4275-8f9c-5e86dc5ea96b"
      },
      "source": [
        "# Coeficientes del modelo\n",
        "# ==============================================================================\n",
        "df_coeficientes = pd.DataFrame(\n",
        "                        {'predictor': X_train.columns,\n",
        "                         'coef': modelotodas.coef_.flatten()}\n",
        "                  )\n",
        "\n",
        "fig, ax = plt.subplots(figsize=(11, 3.84))\n",
        "ax.stem(df_coeficientes.predictor, df_coeficientes.coef, markerfmt=' ')\n",
        "plt.xticks(rotation=90, ha='right', size=5)\n",
        "ax.set_xlabel('variable')\n",
        "ax.set_ylabel('coeficientes')\n",
        "ax.set_title('Coeficientes del modelo');"
      ],
      "execution_count": null,
      "outputs": [
        {
          "output_type": "display_data",
          "data": {
            "image/png": "[encoded data removed]",
            "text/plain": [
              "<Figure size 792x276.48 with 1 Axes>"
            ]
          },
          "metadata": {
            "needs_background": "light"
          }
        }
      ]
    },
    {
      "cell_type": "code",
      "metadata": {
        "colab": {
          "base_uri": "https://localhost:8080/"
        },
        "id": "OpQzClrePnEA",
        "outputId": "b5072e7b-24b7-49b8-8166-978dba111316"
      },
      "source": [
        "# Predicciones test\n",
        "# ==============================================================================\n",
        "predicciones = modelotodas.predict(X=X_test)\n",
        "predicciones = predicciones.flatten()\n",
        "predicciones[:10]"
      ],
      "execution_count": null,
      "outputs": [
        {
          "output_type": "execute_result",
          "data": {
            "text/plain": [
              "array([158999.78902798, 159001.06603669, 159000.51204158,  69898.06444177,\n",
              "       189000.3970312 , 398999.45563722, 342902.62524634, 253999.12224669,\n",
              "        39897.44899961, 199000.58985762])"
            ]
          },
          "metadata": {},
          "execution_count": 31
        }
      ]
    },
    {
      "cell_type": "code",
      "metadata": {
        "colab": {
          "base_uri": "https://localhost:8080/"
        },
        "id": "DFRXf9I7PosN",
        "outputId": "98f42607-5955-41b3-e714-450761aee12c"
      },
      "source": [
        "# Error de test del modelo \n",
        "# ==============================================================================\n",
        "rmse_ridge = mean_squared_error(\n",
        "                y_true  = y_test,\n",
        "                y_pred  = predicciones,\n",
        "                squared = False\n",
        "             )\n",
        "print(\"\")\n",
        "print(f\"El error (rmse) de test es: {rmse_ridge}\")"
      ],
      "execution_count": null,
      "outputs": [
        {
          "output_type": "stream",
          "name": "stdout",
          "text": [
            "\n",
            "El error (rmse) de test es: 2.9670045587614133\n"
          ]
        }
      ]
    },
    {
      "cell_type": "markdown",
      "metadata": {
        "id": "eKuYCu0WP4gh"
      },
      "source": [
        "###Lasso###\n",
        "\n",
        "---\n",
        "\n"
      ]
    },
    {
      "cell_type": "markdown",
      "metadata": {
        "id": "J6tPb6QXXYJJ"
      },
      "source": [
        "###Todas los tipos de productos"
      ]
    },
    {
      "cell_type": "code",
      "metadata": {
        "id": "1GYbBEr7P-_H"
      },
      "source": [
        "# Creación y entrenamiento del modelo (con búsqueda por CV del valor óptimo alpha)\n",
        "# ==============================================================================\n",
        "# Por defecto LassoCV utiliza el mean squared error\n",
        "modelotodas = LassoCV(\n",
        "            alphas          = np.logspace(-10, 3, 200),\n",
        "            normalize       = True,\n",
        "            cv              = 10\n",
        "         )\n",
        "matriztodas = modelotodas.fit(X = X_train, y = y_train)"
      ],
      "execution_count": null,
      "outputs": []
    },
    {
      "cell_type": "code",
      "metadata": {
        "id": "0Lut1py5QQFC",
        "colab": {
          "base_uri": "https://localhost:8080/",
          "height": 290
        },
        "outputId": "bff055db-41ed-4009-f834-1729eceb9a47"
      },
      "source": [
        "# Evolución de los coeficientes en función de alpha\n",
        "# ==============================================================================\n",
        "alphas = modelotodas.alphas_\n",
        "coefs = []\n",
        "\n",
        "for alpha in alphas:\n",
        "    modelotodas_temp = Lasso(alpha=alpha, fit_intercept=False, normalize=True)\n",
        "    modelotodas_temp.fit(X_train, y_train)\n",
        "    coefs.append(modelotodas_temp.coef_.flatten())\n",
        "\n",
        "fig, ax = plt.subplots(figsize=(7, 3.84))\n",
        "ax.plot(alphas, coefs)\n",
        "ax.set_xscale('log')\n",
        "ax.set_ylim([-15,None])\n",
        "ax.set_xlabel('alpha')\n",
        "ax.set_ylabel('coeficientes')\n",
        "ax.set_title('Coeficientes del modelo en función de la regularización');"
      ],
      "execution_count": null,
      "outputs": [
        {
          "output_type": "display_data",
          "data": {
            "image/png": "[encoded data removed]",
            "text/plain": [
              "<Figure size 504x276.48 with 1 Axes>"
            ]
          },
          "metadata": {
            "needs_background": "light"
          }
        }
      ]
    },
    {
      "cell_type": "code",
      "metadata": {
        "colab": {
          "base_uri": "https://localhost:8080/",
          "height": 290
        },
        "id": "E3E4lDvJTaX0",
        "outputId": "506b5a2a-3e76-4fc5-8508-d64b58c94cda"
      },
      "source": [
        "# Número de predictores incluidos (coeficiente !=0) en función de alpha\n",
        "# ==============================================================================\n",
        "alphas = modelotodas.alphas_\n",
        "n_predictores = []\n",
        "\n",
        "for alpha in alphas:\n",
        "    modelotodas_temp = Lasso(alpha=alpha, fit_intercept=False, normalize=True)\n",
        "    modelotodas_temp.fit(X_train, y_train)\n",
        "    coef_no_cero = np.sum(modelotodas_temp.coef_.flatten() != 0)\n",
        "    n_predictores.append(coef_no_cero)\n",
        "\n",
        "fig, ax = plt.subplots(figsize=(7, 3.84))\n",
        "ax.plot(alphas, n_predictores)\n",
        "ax.set_xscale('log')\n",
        "ax.set_ylim([-15,None])\n",
        "ax.set_xlabel('alpha')\n",
        "ax.set_ylabel('nº predictores')\n",
        "ax.set_title('Predictores incluidos en función de la regularización');"
      ],
      "execution_count": null,
      "outputs": [
        {
          "output_type": "display_data",
          "data": {
            "image/png": "[encoded data removed]",
            "text/plain": [
              "<Figure size 504x276.48 with 1 Axes>"
            ]
          },
          "metadata": {
            "needs_background": "light"
          }
        }
      ]
    },
    {
      "cell_type": "code",
      "metadata": {
        "colab": {
          "base_uri": "https://localhost:8080/",
          "height": 290
        },
        "id": "octL3QmwW4hr",
        "outputId": "9d784496-34fd-455a-c8d3-727ff5d5df0b"
      },
      "source": [
        "# Evolución del error en función de alpha\n",
        "# ==============================================================================\n",
        "# modelo.mse_path_ almacena el mse de cv para cada valor de alpha. Tiene\n",
        "# dimensiones (n_alphas, n_folds)\n",
        "mse_cv = modelotodas.mse_path_.mean(axis=1)\n",
        "mse_sd = modelotodas.mse_path_.std(axis=1)\n",
        "\n",
        "# Se aplica la raíz cuadrada para pasar de mse a rmse\n",
        "rmse_cv = np.sqrt(mse_cv)\n",
        "rmse_sd = np.sqrt(mse_sd)\n",
        "\n",
        "# Se identifica el óptimo y el óptimo + 1std\n",
        "min_rmse     = np.min(rmse_cv)\n",
        "sd_min_rmse  = rmse_sd[np.argmin(rmse_cv)]\n",
        "min_rsme_1sd = np.max(rmse_cv[rmse_cv <= min_rmse + sd_min_rmse])\n",
        "optimo       = modelotodas.alphas_[np.argmin(rmse_cv)]\n",
        "optimo_1sd   = modelotodas.alphas_[rmse_cv == min_rsme_1sd]\n",
        "\n",
        "# Gráfico del error +- 1 desviación estándar\n",
        "fig, ax = plt.subplots(figsize=(7, 3.84))\n",
        "ax.plot(modelotodas.alphas_, rmse_cv)\n",
        "ax.fill_between(\n",
        "    modelotodas.alphas_,\n",
        "    rmse_cv + rmse_sd,\n",
        "    rmse_cv - rmse_sd,\n",
        "    alpha=0.2\n",
        ")\n",
        "\n",
        "ax.axvline(\n",
        "    x         = optimo,\n",
        "    c         = \"gray\",\n",
        "    linestyle = '--',\n",
        "    label     = 'óptimo'\n",
        ")\n",
        "\n",
        "ax.axvline(\n",
        "    x         = optimo_1sd,\n",
        "    c         = \"blue\",\n",
        "    linestyle = '--',\n",
        "    label     = 'óptimo_1sd'\n",
        ")\n",
        "\n",
        "ax.set_xscale('log')\n",
        "ax.set_ylim([0,None])\n",
        "ax.set_title('Evolución del error CV en función de la regularización')\n",
        "ax.set_xlabel('alpha')\n",
        "ax.set_ylabel('RMSE')\n",
        "plt.legend();"
      ],
      "execution_count": null,
      "outputs": [
        {
          "output_type": "display_data",
          "data": {
            "image/png": "[encoded data removed]",
            "text/plain": [
              "<Figure size 504x276.48 with 1 Axes>"
            ]
          },
          "metadata": {
            "needs_background": "light"
          }
        }
      ]
    },
    {
      "cell_type": "code",
      "metadata": {
        "colab": {
          "base_uri": "https://localhost:8080/"
        },
        "id": "gfojtqp0W7YH",
        "outputId": "42a4931b-0730-4b5b-fa76-e96937171b60"
      },
      "source": [
        "# Mejor valor alpha encontrado\n",
        "# ==============================================================================\n",
        "print(f\"Mejor valor de alpha encontrado: {modelotodas.alpha_}\")"
      ],
      "execution_count": null,
      "outputs": [
        {
          "output_type": "stream",
          "name": "stdout",
          "text": [
            "Mejor valor de alpha encontrado: 1e-10\n"
          ]
        }
      ]
    },
    {
      "cell_type": "markdown",
      "metadata": {
        "id": "lBZA8QZgW-yG"
      },
      "source": [
        "Mejor valor de alpha encontrado: 1e-10\n"
      ]
    },
    {
      "cell_type": "code",
      "metadata": {
        "colab": {
          "base_uri": "https://localhost:8080/"
        },
        "id": "PGd-xsGuW_sD",
        "outputId": "e4fb06c7-1be0-46bc-a1a7-11ff3e3f2322"
      },
      "source": [
        "# Mejor valor alpha encontrado + 1sd\n",
        "# ==============================================================================\n",
        "min_rmse     = np.min(rmse_cv)\n",
        "sd_min_rmse  = rmse_sd[np.argmin(rmse_cv)]\n",
        "min_rsme_1sd = np.max(rmse_cv[rmse_cv <= min_rmse + sd_min_rmse])\n",
        "optimo       = modelotodas.alphas_[np.argmin(rmse_cv)]\n",
        "optimo_1sd   = modelotodas.alphas_[rmse_cv == min_rsme_1sd]\n",
        "\n",
        "print(f\"Mejor valor de alpha encontrado + 1 desviación estándar: {optimo_1sd}\")"
      ],
      "execution_count": null,
      "outputs": [
        {
          "output_type": "stream",
          "name": "stdout",
          "text": [
            "Mejor valor de alpha encontrado + 1 desviación estándar: [1.57029012e-10]\n"
          ]
        }
      ]
    },
    {
      "cell_type": "markdown",
      "metadata": {
        "id": "SNf_8QVvXCjk"
      },
      "source": [
        "Mejor valor de alpha encontrado + 1 desviación estándar: [1.57029012e-10]\n",
        "]"
      ]
    },
    {
      "cell_type": "code",
      "metadata": {
        "colab": {
          "base_uri": "https://localhost:8080/"
        },
        "id": "EqI9fR8sZ_Pe",
        "outputId": "e40bb04b-1695-4c09-8c27-c7f7393c5105"
      },
      "source": [
        "#Se entrena de nuevo el modelo, esta vez empleando el mayor valor de alpha cuyo error está a menos de una desviación típica del mínimo encontrado en la validación cruzada.\n",
        "\n",
        "# Mejor modelo alpha óptimo + 1sd\n",
        "# ==============================================================================\n",
        "modelotodas = Lasso(alpha=optimo_1sd, normalize=True)\n",
        "modelotodas.fit(X_train, y_train)"
      ],
      "execution_count": null,
      "outputs": [
        {
          "output_type": "execute_result",
          "data": {
            "text/plain": [
              "Lasso(alpha=array([1.57029012e-10]), normalize=True)"
            ]
          },
          "metadata": {},
          "execution_count": 39
        }
      ]
    },
    {
      "cell_type": "code",
      "metadata": {
        "colab": {
          "base_uri": "https://localhost:8080/",
          "height": 265
        },
        "id": "VnUgt0IHaI2Q",
        "outputId": "175d28bb-f5d3-4c1d-8fa9-f994cc05ea50"
      },
      "source": [
        "# Coeficientes del modelo\n",
        "# ==============================================================================\n",
        "df_coeficientes = pd.DataFrame(\n",
        "                        {'predictor': X_train.columns,\n",
        "                         'coef': modelotodas.coef_.flatten()}\n",
        "                  )\n",
        "\n",
        "# Predictores incluidos en el modelo (coeficiente != 0)\n",
        "df_coeficientes[df_coeficientes.coef != 0]"
      ],
      "execution_count": null,
      "outputs": [
        {
          "output_type": "execute_result",
          "data": {
            "text/html": [
              "<div>\n",
              "<style scoped>\n",
              "    .dataframe tbody tr th:only-of-type {\n",
              "        vertical-align: middle;\n",
              "    }\n",
              "\n",
              "    .dataframe tbody tr th {\n",
              "        vertical-align: top;\n",
              "    }\n",
              "\n",
              "    .dataframe thead th {\n",
              "        text-align: right;\n",
              "    }\n",
              "</style>\n",
              "<table border=\"1\" class=\"dataframe\">\n",
              "  <thead>\n",
              "    <tr style=\"text-align: right;\">\n",
              "      <th></th>\n",
              "      <th>predictor</th>\n",
              "      <th>coef</th>\n",
              "    </tr>\n",
              "  </thead>\n",
              "  <tbody>\n",
              "    <tr>\n",
              "      <th>0</th>\n",
              "      <td>Anio_Venta</td>\n",
              "      <td>-125.426570</td>\n",
              "    </tr>\n",
              "    <tr>\n",
              "      <th>1</th>\n",
              "      <td>Anio_Proyecto</td>\n",
              "      <td>123.840308</td>\n",
              "    </tr>\n",
              "    <tr>\n",
              "      <th>2</th>\n",
              "      <td>Forma_Pago</td>\n",
              "      <td>0.907647</td>\n",
              "    </tr>\n",
              "    <tr>\n",
              "      <th>3</th>\n",
              "      <td>Cantidad</td>\n",
              "      <td>-1.839553</td>\n",
              "    </tr>\n",
              "    <tr>\n",
              "      <th>4</th>\n",
              "      <td>Vr_Neto_sin_IVA</td>\n",
              "      <td>0.999980</td>\n",
              "    </tr>\n",
              "    <tr>\n",
              "      <th>5</th>\n",
              "      <td>IVA</td>\n",
              "      <td>0.999716</td>\n",
              "    </tr>\n",
              "    <tr>\n",
              "      <th>6</th>\n",
              "      <td>Cuotas</td>\n",
              "      <td>-4.361836</td>\n",
              "    </tr>\n",
              "  </tbody>\n",
              "</table>\n",
              "</div>"
            ],
            "text/plain": [
              "         predictor        coef\n",
              "0       Anio_Venta -125.426570\n",
              "1    Anio_Proyecto  123.840308\n",
              "2       Forma_Pago    0.907647\n",
              "3         Cantidad   -1.839553\n",
              "4  Vr_Neto_sin_IVA    0.999980\n",
              "5              IVA    0.999716\n",
              "6           Cuotas   -4.361836"
            ]
          },
          "metadata": {},
          "execution_count": 40
        }
      ]
    },
    {
      "cell_type": "code",
      "metadata": {
        "colab": {
          "base_uri": "https://localhost:8080/",
          "height": 317
        },
        "id": "Oxj4y0YqaaUg",
        "outputId": "59d8f0c7-b2ea-4de1-887a-42f6fb5c657d"
      },
      "source": [
        "fig, ax = plt.subplots(figsize=(11, 3.84))\n",
        "ax.stem(df_coeficientes.predictor, df_coeficientes.coef, markerfmt=' ')\n",
        "plt.xticks(rotation=90, ha='right', size=5)\n",
        "ax.set_xlabel('variable')\n",
        "ax.set_ylabel('coeficientes')\n",
        "ax.set_title('Coeficientes del modelo');"
      ],
      "execution_count": null,
      "outputs": [
        {
          "output_type": "display_data",
          "data": {
            "image/png": "[encoded data removed]",
            "text/plain": [
              "<Figure size 792x276.48 with 1 Axes>"
            ]
          },
          "metadata": {
            "needs_background": "light"
          }
        }
      ]
    },
    {
      "cell_type": "code",
      "metadata": {
        "colab": {
          "base_uri": "https://localhost:8080/"
        },
        "id": "yIFxP0LeaiO_",
        "outputId": "920aa62f-a781-4134-8983-a88331558573"
      },
      "source": [
        "# Predicciones test\n",
        "# ==============================================================================\n",
        "predicciones = modelotodas.predict(X=X_test)\n",
        "predicciones = predicciones.flatten()\n",
        "predicciones[:10]"
      ],
      "execution_count": null,
      "outputs": [
        {
          "output_type": "execute_result",
          "data": {
            "text/plain": [
              "array([159024.47426069, 159025.56657412, 159025.38190809,  69924.13885448,\n",
              "       189023.39283631, 399015.015667  , 342796.53877639, 254020.1200107 ,\n",
              "        39924.04771618, 199020.52821502])"
            ]
          },
          "metadata": {},
          "execution_count": 42
        }
      ]
    },
    {
      "cell_type": "code",
      "metadata": {
        "colab": {
          "base_uri": "https://localhost:8080/"
        },
        "id": "r3mw6iF3aloW",
        "outputId": "ee4a5799-a8b1-42d8-9d95-9a93abc981ab"
      },
      "source": [
        "# Error de test del modelo \n",
        "# ==============================================================================\n",
        "rmse_lasso = mean_squared_error(\n",
        "                y_true  = y_test,\n",
        "                y_pred  = predicciones,\n",
        "                squared = False\n",
        "             )\n",
        "print(\"\")\n",
        "print(f\"El error (rmse) de test es: {rmse_lasso}\")"
      ],
      "execution_count": null,
      "outputs": [
        {
          "output_type": "stream",
          "name": "stdout",
          "text": [
            "\n",
            "El error (rmse) de test es: 50.86350139581305\n"
          ]
        }
      ]
    },
    {
      "cell_type": "markdown",
      "metadata": {
        "id": "fIGE1LIjj9E6"
      },
      "source": [
        "##Regressión Elastic Net####\n",
        "\n",
        "---\n",
        "\n"
      ]
    },
    {
      "cell_type": "markdown",
      "metadata": {
        "id": "mEPCDlXhaRPv"
      },
      "source": [
        "###Todos los productos"
      ]
    },
    {
      "cell_type": "code",
      "metadata": {
        "id": "5JlbLjH3Z06r"
      },
      "source": [
        "# Creación y entrenamiento del modelo (con búsqueda por CV del valor óptimo alpha)\n",
        "# ==============================================================================\n",
        "# Por defecto ElasticNetCV utiliza el mean squared error\n",
        "modelo = ElasticNetCV(\n",
        "            l1_ratio        = [0, 0.1, 0.5, 0.7, 0.9, 0.95, 0.99],\n",
        "            alphas          = np.logspace(-10, 3, 200),\n",
        "            normalize       = True,\n",
        "            cv              = 10\n",
        "         )\n",
        "_ = modelo.fit(X = X_train, y = y_train)"
      ],
      "execution_count": null,
      "outputs": []
    },
    {
      "cell_type": "code",
      "metadata": {
        "colab": {
          "base_uri": "https://localhost:8080/",
          "height": 417
        },
        "id": "utAgrwAabAc4",
        "outputId": "dedd4c71-71c0-45f4-817b-f683e3e90044"
      },
      "source": [
        "# Evolución del error en función de alpha y l1_ratio\n",
        "# ==============================================================================\n",
        "# modelo.mse_path_ almacena el mse de cv para cada valor de alpha y l1_ratio.\n",
        "# Tiene dimensiones (n_l1_ratio, n_alpha, n_folds)\n",
        "\n",
        "# Error medio de las 10 particiones por cada valor de alpha y l1_ratio \n",
        "mean_error_cv = modelo.mse_path_.mean(axis =2)\n",
        "\n",
        "# El resultado es un array de dimensiones (n_l1_ratio, n_alpha)\n",
        "# Se convierte en un dataframe\n",
        "df_resultados_cv = pd.DataFrame(\n",
        "                        data   = mean_error_cv.flatten(),\n",
        "                        index  = pd.MultiIndex.from_product(\n",
        "                                    iterables = [modelo.l1_ratio, modelo.alphas_],\n",
        "                                    names     = ['l1_ratio', 'modelo.alphas_']\n",
        "                                 ),\n",
        "                        columns = [\"mse_cv\"]\n",
        "                    )\n",
        "\n",
        "df_resultados_cv['rmse_cv'] = np.sqrt(df_resultados_cv['mse_cv'])\n",
        "df_resultados_cv = df_resultados_cv.reset_index().sort_values('mse_cv', ascending = True)\n",
        "df_resultados_cv"
      ],
      "execution_count": null,
      "outputs": [
        {
          "output_type": "execute_result",
          "data": {
            "text/html": [
              "<div>\n",
              "<style scoped>\n",
              "    .dataframe tbody tr th:only-of-type {\n",
              "        vertical-align: middle;\n",
              "    }\n",
              "\n",
              "    .dataframe tbody tr th {\n",
              "        vertical-align: top;\n",
              "    }\n",
              "\n",
              "    .dataframe thead th {\n",
              "        text-align: right;\n",
              "    }\n",
              "</style>\n",
              "<table border=\"1\" class=\"dataframe\">\n",
              "  <thead>\n",
              "    <tr style=\"text-align: right;\">\n",
              "      <th></th>\n",
              "      <th>l1_ratio</th>\n",
              "      <th>modelo.alphas_</th>\n",
              "      <th>mse_cv</th>\n",
              "      <th>rmse_cv</th>\n",
              "    </tr>\n",
              "  </thead>\n",
              "  <tbody>\n",
              "    <tr>\n",
              "      <th>1399</th>\n",
              "      <td>0.99</td>\n",
              "      <td>1.000000e-10</td>\n",
              "      <td>6.076988e-04</td>\n",
              "      <td>0.024652</td>\n",
              "    </tr>\n",
              "    <tr>\n",
              "      <th>1398</th>\n",
              "      <td>0.99</td>\n",
              "      <td>1.162322e-10</td>\n",
              "      <td>7.613277e-04</td>\n",
              "      <td>0.027592</td>\n",
              "    </tr>\n",
              "    <tr>\n",
              "      <th>1397</th>\n",
              "      <td>0.99</td>\n",
              "      <td>1.350994e-10</td>\n",
              "      <td>9.557398e-04</td>\n",
              "      <td>0.030915</td>\n",
              "    </tr>\n",
              "    <tr>\n",
              "      <th>1396</th>\n",
              "      <td>0.99</td>\n",
              "      <td>1.570290e-10</td>\n",
              "      <td>1.202362e-03</td>\n",
              "      <td>0.034675</td>\n",
              "    </tr>\n",
              "    <tr>\n",
              "      <th>1395</th>\n",
              "      <td>0.99</td>\n",
              "      <td>1.825183e-10</td>\n",
              "      <td>1.516001e-03</td>\n",
              "      <td>0.038936</td>\n",
              "    </tr>\n",
              "    <tr>\n",
              "      <th>...</th>\n",
              "      <td>...</td>\n",
              "      <td>...</td>\n",
              "      <td>...</td>\n",
              "      <td>...</td>\n",
              "    </tr>\n",
              "    <tr>\n",
              "      <th>801</th>\n",
              "      <td>0.90</td>\n",
              "      <td>8.603464e+02</td>\n",
              "      <td>3.240957e+10</td>\n",
              "      <td>180026.579217</td>\n",
              "    </tr>\n",
              "    <tr>\n",
              "      <th>1200</th>\n",
              "      <td>0.99</td>\n",
              "      <td>1.000000e+03</td>\n",
              "      <td>3.240957e+10</td>\n",
              "      <td>180026.579217</td>\n",
              "    </tr>\n",
              "    <tr>\n",
              "      <th>1201</th>\n",
              "      <td>0.99</td>\n",
              "      <td>8.603464e+02</td>\n",
              "      <td>3.240957e+10</td>\n",
              "      <td>180026.579217</td>\n",
              "    </tr>\n",
              "    <tr>\n",
              "      <th>1202</th>\n",
              "      <td>0.99</td>\n",
              "      <td>7.401960e+02</td>\n",
              "      <td>3.240957e+10</td>\n",
              "      <td>180026.579217</td>\n",
              "    </tr>\n",
              "    <tr>\n",
              "      <th>800</th>\n",
              "      <td>0.90</td>\n",
              "      <td>1.000000e+03</td>\n",
              "      <td>3.240957e+10</td>\n",
              "      <td>180026.579217</td>\n",
              "    </tr>\n",
              "  </tbody>\n",
              "</table>\n",
              "<p>1400 rows × 4 columns</p>\n",
              "</div>"
            ],
            "text/plain": [
              "      l1_ratio  modelo.alphas_        mse_cv        rmse_cv\n",
              "1399      0.99    1.000000e-10  6.076988e-04       0.024652\n",
              "1398      0.99    1.162322e-10  7.613277e-04       0.027592\n",
              "1397      0.99    1.350994e-10  9.557398e-04       0.030915\n",
              "1396      0.99    1.570290e-10  1.202362e-03       0.034675\n",
              "1395      0.99    1.825183e-10  1.516001e-03       0.038936\n",
              "...        ...             ...           ...            ...\n",
              "801       0.90    8.603464e+02  3.240957e+10  180026.579217\n",
              "1200      0.99    1.000000e+03  3.240957e+10  180026.579217\n",
              "1201      0.99    8.603464e+02  3.240957e+10  180026.579217\n",
              "1202      0.99    7.401960e+02  3.240957e+10  180026.579217\n",
              "800       0.90    1.000000e+03  3.240957e+10  180026.579217\n",
              "\n",
              "[1400 rows x 4 columns]"
            ]
          },
          "metadata": {},
          "execution_count": 45
        }
      ]
    },
    {
      "cell_type": "code",
      "metadata": {
        "colab": {
          "base_uri": "https://localhost:8080/",
          "height": 288
        },
        "id": "aQoeN9grbG80",
        "outputId": "7d6d378e-be07-4928-f67d-83951b521e9a"
      },
      "source": [
        "# Mejor valor encontrado para cada l1_ratio\n",
        "fig, ax = plt.subplots(figsize=(7, 3.84))\n",
        "df_resultados_cv.groupby('l1_ratio')['rmse_cv'].min().plot(ax = ax)\n",
        "ax.set_title('Evolución del error CV en función de la l1_ratio')\n",
        "ax.set_xlabel('l1_ratio')\n",
        "ax.set_ylabel('rmse_cv');"
      ],
      "execution_count": null,
      "outputs": [
        {
          "output_type": "display_data",
          "data": {
            "image/png": "[encoded data removed]",
            "text/plain": [
              "<Figure size 504x276.48 with 1 Axes>"
            ]
          },
          "metadata": {
            "needs_background": "light"
          }
        }
      ]
    },
    {
      "cell_type": "code",
      "metadata": {
        "colab": {
          "base_uri": "https://localhost:8080/"
        },
        "id": "Z_pIRGwabKAn",
        "outputId": "51d33de1-5e02-4754-8651-282fc40b0f62"
      },
      "source": [
        "# Mejor valor alpha y l1_ratio_ encontrado\n",
        "# ==============================================================================\n",
        "print(f\"Mejor valor de alpha encontrado: {modelo.alpha_}\")\n",
        "print(f\"Mejor valor de l1_ratio encontrado: {modelo.l1_ratio_}\")"
      ],
      "execution_count": null,
      "outputs": [
        {
          "output_type": "stream",
          "name": "stdout",
          "text": [
            "Mejor valor de alpha encontrado: 1e-10\n",
            "Mejor valor de l1_ratio encontrado: 0.99\n"
          ]
        }
      ]
    },
    {
      "cell_type": "code",
      "metadata": {
        "id": "hxxZ2YQ5bNGW"
      },
      "source": [
        "# Coeficientes del modelo\n",
        "# ==============================================================================\n",
        "df_coeficientes = pd.DataFrame(\n",
        "                        {'predictor': X_train.columns,\n",
        "                         'coef': modelo.coef_.flatten()}\n",
        "                  )"
      ],
      "execution_count": null,
      "outputs": []
    },
    {
      "cell_type": "code",
      "metadata": {
        "colab": {
          "base_uri": "https://localhost:8080/",
          "height": 317
        },
        "id": "5p1vElW8bQU7",
        "outputId": "62c821de-0d52-4efc-e143-e9ad7815934b"
      },
      "source": [
        "fig, ax = plt.subplots(figsize=(11, 3.84))\n",
        "ax.stem(df_coeficientes.predictor, df_coeficientes.coef, markerfmt=' ')\n",
        "plt.xticks(rotation=90, ha='right', size=5)\n",
        "ax.set_xlabel('variable')\n",
        "ax.set_ylabel('coeficientes')\n",
        "ax.set_title('Coeficientes del modelo');"
      ],
      "execution_count": null,
      "outputs": [
        {
          "output_type": "display_data",
          "data": {
            "image/png": "[encoded data removed]",
            "text/plain": [
              "<Figure size 792x276.48 with 1 Axes>"
            ]
          },
          "metadata": {
            "needs_background": "light"
          }
        }
      ]
    },
    {
      "cell_type": "code",
      "metadata": {
        "id": "iFnRkQzSbT0K"
      },
      "source": [
        "# Predicciones test\n",
        "# ==============================================================================\n",
        "predicciones = modelo.predict(X=X_test)\n",
        "predicciones = predicciones.flatten()"
      ],
      "execution_count": null,
      "outputs": []
    },
    {
      "cell_type": "code",
      "metadata": {
        "colab": {
          "base_uri": "https://localhost:8080/"
        },
        "id": "nw_ksIB_bXOz",
        "outputId": "658013ee-9213-4fa8-c99c-573d434f9ed4"
      },
      "source": [
        "# Error de test del modelo \n",
        "# ==============================================================================\n",
        "rmse_elastic = mean_squared_error(\n",
        "                y_true  = y_test,\n",
        "                y_pred  = predicciones,\n",
        "                squared = False\n",
        "               )\n",
        "print(\"\")\n",
        "print(f\"El error (rmse) de test es: {rmse_elastic}\")"
      ],
      "execution_count": null,
      "outputs": [
        {
          "output_type": "stream",
          "name": "stdout",
          "text": [
            "\n",
            "El error (rmse) de test es: 50.864330003645115\n"
          ]
        }
      ]
    },
    {
      "cell_type": "markdown",
      "metadata": {
        "id": "n5z7dFE2bY9Y"
      },
      "source": [
        "Las predicciones del modelo final se alejan en promedio 4232.750 unidades del valor real, utilizando solo XX de los XXX predictores disponibles."
      ]
    },
    {
      "cell_type": "markdown",
      "metadata": {
        "id": "cCUeN7YQb3Hr"
      },
      "source": [
        "###Comparación de modelos"
      ]
    },
    {
      "cell_type": "code",
      "metadata": {
        "colab": {
          "base_uri": "https://localhost:8080/",
          "height": 287
        },
        "id": "kC-F-Vaqb6Th",
        "outputId": "57602d4f-48dd-4627-d47b-3540f96d0ba9"
      },
      "source": [
        "df_comparacion = pd.DataFrame({\n",
        "                    'modelo': ['Ridge', 'Lasso', 'Elastic-net'],\n",
        "                    'test rmse': [ rmse_ridge, rmse_lasso, rmse_elastic]\n",
        "                 })\n",
        "\n",
        "fig, ax = plt.subplots(figsize=(7, 3.84))\n",
        "df_comparacion.set_index('modelo').plot(kind='barh', ax=ax)\n",
        "ax.set_xlabel('rmse')\n",
        "ax.set_ylabel('modelo')\n",
        "ax.set_title('Comparación de modelos');"
      ],
      "execution_count": null,
      "outputs": [
        {
          "output_type": "display_data",
          "data": {
            "image/png": "[encoded data removed]",
            "text/plain": [
              "<Figure size 504x276.48 with 1 Axes>"
            ]
          },
          "metadata": {
            "needs_background": "light"
          }
        }
      ]
    },
    {
      "cell_type": "code",
      "metadata": {
        "colab": {
          "base_uri": "https://localhost:8080/",
          "height": 142
        },
        "id": "LJy64ton_LtL",
        "outputId": "65f612e5-f5d3-462d-aa0f-1367b33f28f5"
      },
      "source": [
        "df_comparacion"
      ],
      "execution_count": null,
      "outputs": [
        {
          "output_type": "execute_result",
          "data": {
            "text/html": [
              "<div>\n",
              "<style scoped>\n",
              "    .dataframe tbody tr th:only-of-type {\n",
              "        vertical-align: middle;\n",
              "    }\n",
              "\n",
              "    .dataframe tbody tr th {\n",
              "        vertical-align: top;\n",
              "    }\n",
              "\n",
              "    .dataframe thead th {\n",
              "        text-align: right;\n",
              "    }\n",
              "</style>\n",
              "<table border=\"1\" class=\"dataframe\">\n",
              "  <thead>\n",
              "    <tr style=\"text-align: right;\">\n",
              "      <th></th>\n",
              "      <th>modelo</th>\n",
              "      <th>test rmse</th>\n",
              "    </tr>\n",
              "  </thead>\n",
              "  <tbody>\n",
              "    <tr>\n",
              "      <th>0</th>\n",
              "      <td>Ridge</td>\n",
              "      <td>2.967005</td>\n",
              "    </tr>\n",
              "    <tr>\n",
              "      <th>1</th>\n",
              "      <td>Lasso</td>\n",
              "      <td>50.863501</td>\n",
              "    </tr>\n",
              "    <tr>\n",
              "      <th>2</th>\n",
              "      <td>Elastic-net</td>\n",
              "      <td>50.864330</td>\n",
              "    </tr>\n",
              "  </tbody>\n",
              "</table>\n",
              "</div>"
            ],
            "text/plain": [
              "        modelo  test rmse\n",
              "0        Ridge   2.967005\n",
              "1        Lasso  50.863501\n",
              "2  Elastic-net  50.864330"
            ]
          },
          "metadata": {},
          "execution_count": 57
        }
      ]
    }
  ]
}